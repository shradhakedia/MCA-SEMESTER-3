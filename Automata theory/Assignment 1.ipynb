{
  "nbformat": 4,
  "nbformat_minor": 0,
  "metadata": {
    "kernelspec": {
      "display_name": "Python 3",
      "language": "python",
      "name": "python3"
    },
    "language_info": {
      "codemirror_mode": {
        "name": "ipython",
        "version": 3
      },
      "file_extension": ".py",
      "mimetype": "text/x-python",
      "name": "python",
      "nbconvert_exporter": "python",
      "pygments_lexer": "ipython3",
      "version": "3.7.3"
    },
    "toc": {
      "colors": {
        "hover_highlight": "#DAA520",
        "running_highlight": "#FF0000",
        "selected_highlight": "#FFD700"
      },
      "moveMenuLeft": true,
      "nav_menu": {
        "height": "207px",
        "width": "252px"
      },
      "navigate_menu": true,
      "number_sections": true,
      "sideBar": true,
      "threshold": 4,
      "toc_cell": false,
      "toc_section_display": "block",
      "toc_window_display": false,
      "widenNotebook": false
    },
    "colab": {
      "name": "Copy of 1d_Language_Details.ipynb",
      "provenance": [],
      "collapsed_sections": [
        "YQwgC2pWzooN"
      ]
    },
    "widgets": {
      "application/vnd.jupyter.widget-state+json": {
        "87a9f36b50bb4e6f85241b7f188c3ed9": {
          "model_module": "@jupyter-widgets/controls",
          "model_name": "VBoxModel",
          "model_module_version": "1.5.0",
          "state": {
            "_view_name": "VBoxView",
            "_dom_classes": [
              "widget-interact"
            ],
            "_model_name": "VBoxModel",
            "_view_module": "@jupyter-widgets/controls",
            "_model_module_version": "1.5.0",
            "_view_count": null,
            "_view_module_version": "1.5.0",
            "box_style": "",
            "layout": "IPY_MODEL_306dfbbc6ae8411ba8a7f9aeb6d58d08",
            "_model_module": "@jupyter-widgets/controls",
            "children": [
              "IPY_MODEL_cd0fce640f86476fb7e04ea185e2dbc2",
              "IPY_MODEL_2c7a919d68434bf080c9493b33577461",
              "IPY_MODEL_22cd7b13ed0b4b458c43afb9b790a7f8"
            ]
          }
        },
        "306dfbbc6ae8411ba8a7f9aeb6d58d08": {
          "model_module": "@jupyter-widgets/base",
          "model_name": "LayoutModel",
          "model_module_version": "1.2.0",
          "state": {
            "_view_name": "LayoutView",
            "grid_template_rows": null,
            "right": null,
            "justify_content": null,
            "_view_module": "@jupyter-widgets/base",
            "overflow": null,
            "_model_module_version": "1.2.0",
            "_view_count": null,
            "flex_flow": null,
            "width": null,
            "min_width": null,
            "border": null,
            "align_items": null,
            "bottom": null,
            "_model_module": "@jupyter-widgets/base",
            "top": null,
            "grid_column": null,
            "overflow_y": null,
            "overflow_x": null,
            "grid_auto_flow": null,
            "grid_area": null,
            "grid_template_columns": null,
            "flex": null,
            "_model_name": "LayoutModel",
            "justify_items": null,
            "grid_row": null,
            "max_height": null,
            "align_content": null,
            "visibility": null,
            "align_self": null,
            "height": null,
            "min_height": null,
            "padding": null,
            "grid_auto_rows": null,
            "grid_gap": null,
            "max_width": null,
            "order": null,
            "_view_module_version": "1.2.0",
            "grid_template_areas": null,
            "object_position": null,
            "object_fit": null,
            "grid_auto_columns": null,
            "margin": null,
            "display": null,
            "left": null
          }
        },
        "cd0fce640f86476fb7e04ea185e2dbc2": {
          "model_module": "@jupyter-widgets/controls",
          "model_name": "DropdownModel",
          "model_module_version": "1.5.0",
          "state": {
            "_options_labels": [
              "L3",
              "L1",
              "L2",
              "M",
              "lphi",
              "lunit"
            ],
            "_view_name": "DropdownView",
            "style": "IPY_MODEL_b94de322a4bd422cb65eccf30db6da85",
            "_dom_classes": [],
            "description": "L",
            "_model_name": "DropdownModel",
            "index": 0,
            "_view_module": "@jupyter-widgets/controls",
            "_model_module_version": "1.5.0",
            "_view_count": null,
            "disabled": false,
            "_view_module_version": "1.5.0",
            "description_tooltip": null,
            "_model_module": "@jupyter-widgets/controls",
            "layout": "IPY_MODEL_504b5c5840704cadbb8946b490794f76"
          }
        },
        "2c7a919d68434bf080c9493b33577461": {
          "model_module": "@jupyter-widgets/controls",
          "model_name": "IntSliderModel",
          "model_module_version": "1.5.0",
          "state": {
            "_view_name": "IntSliderView",
            "style": "IPY_MODEL_4bff261fab92410eaa0e3e1e4eedc129",
            "_dom_classes": [],
            "description": "n",
            "step": 1,
            "_model_name": "IntSliderModel",
            "orientation": "horizontal",
            "max": 7,
            "_view_module": "@jupyter-widgets/controls",
            "_model_module_version": "1.5.0",
            "value": 3,
            "_view_count": null,
            "disabled": false,
            "_view_module_version": "1.5.0",
            "min": 0,
            "continuous_update": true,
            "readout_format": "d",
            "description_tooltip": null,
            "readout": true,
            "_model_module": "@jupyter-widgets/controls",
            "layout": "IPY_MODEL_1ec7dfedc7da473bad225d44237c9133"
          }
        },
        "22cd7b13ed0b4b458c43afb9b790a7f8": {
          "model_module": "@jupyter-widgets/output",
          "model_name": "OutputModel",
          "model_module_version": "1.0.0",
          "state": {
            "_view_name": "OutputView",
            "msg_id": "",
            "_dom_classes": [],
            "_model_name": "OutputModel",
            "outputs": [
              {
                "output_type": "display_data",
                "data": {
                  "text/plain": [
                    "{'',\n",
                    " 'a',\n",
                    " 'aa',\n",
                    " 'aaa',\n",
                    " 'aab',\n",
                    " 'aac',\n",
                    " 'ab',\n",
                    " 'aba',\n",
                    " 'abb',\n",
                    " 'abc',\n",
                    " 'ac',\n",
                    " 'aca',\n",
                    " 'acb',\n",
                    " 'acc',\n",
                    " 'b',\n",
                    " 'ba',\n",
                    " 'baa',\n",
                    " 'bab',\n",
                    " 'bac',\n",
                    " 'bb',\n",
                    " 'bba',\n",
                    " 'bbb',\n",
                    " 'bbc',\n",
                    " 'bc',\n",
                    " 'bca',\n",
                    " 'bcb',\n",
                    " 'bcc',\n",
                    " 'c',\n",
                    " 'ca',\n",
                    " 'caa',\n",
                    " 'cab',\n",
                    " 'cac',\n",
                    " 'cb',\n",
                    " 'cba',\n",
                    " 'cbb',\n",
                    " 'cbc',\n",
                    " 'cc',\n",
                    " 'cca',\n",
                    " 'ccb',\n",
                    " 'ccc'}"
                  ]
                },
                "metadata": {}
              }
            ],
            "_view_module": "@jupyter-widgets/output",
            "_model_module_version": "1.0.0",
            "_view_count": null,
            "_view_module_version": "1.0.0",
            "layout": "IPY_MODEL_e79b788079494a3293469a7d46ad58af",
            "_model_module": "@jupyter-widgets/output"
          }
        },
        "b94de322a4bd422cb65eccf30db6da85": {
          "model_module": "@jupyter-widgets/controls",
          "model_name": "DescriptionStyleModel",
          "model_module_version": "1.5.0",
          "state": {
            "_view_name": "StyleView",
            "_model_name": "DescriptionStyleModel",
            "description_width": "",
            "_view_module": "@jupyter-widgets/base",
            "_model_module_version": "1.5.0",
            "_view_count": null,
            "_view_module_version": "1.2.0",
            "_model_module": "@jupyter-widgets/controls"
          }
        },
        "504b5c5840704cadbb8946b490794f76": {
          "model_module": "@jupyter-widgets/base",
          "model_name": "LayoutModel",
          "model_module_version": "1.2.0",
          "state": {
            "_view_name": "LayoutView",
            "grid_template_rows": null,
            "right": null,
            "justify_content": null,
            "_view_module": "@jupyter-widgets/base",
            "overflow": null,
            "_model_module_version": "1.2.0",
            "_view_count": null,
            "flex_flow": null,
            "width": null,
            "min_width": null,
            "border": null,
            "align_items": null,
            "bottom": null,
            "_model_module": "@jupyter-widgets/base",
            "top": null,
            "grid_column": null,
            "overflow_y": null,
            "overflow_x": null,
            "grid_auto_flow": null,
            "grid_area": null,
            "grid_template_columns": null,
            "flex": null,
            "_model_name": "LayoutModel",
            "justify_items": null,
            "grid_row": null,
            "max_height": null,
            "align_content": null,
            "visibility": null,
            "align_self": null,
            "height": null,
            "min_height": null,
            "padding": null,
            "grid_auto_rows": null,
            "grid_gap": null,
            "max_width": null,
            "order": null,
            "_view_module_version": "1.2.0",
            "grid_template_areas": null,
            "object_position": null,
            "object_fit": null,
            "grid_auto_columns": null,
            "margin": null,
            "display": null,
            "left": null
          }
        },
        "4bff261fab92410eaa0e3e1e4eedc129": {
          "model_module": "@jupyter-widgets/controls",
          "model_name": "SliderStyleModel",
          "model_module_version": "1.5.0",
          "state": {
            "_view_name": "StyleView",
            "handle_color": null,
            "_model_name": "SliderStyleModel",
            "description_width": "",
            "_view_module": "@jupyter-widgets/base",
            "_model_module_version": "1.5.0",
            "_view_count": null,
            "_view_module_version": "1.2.0",
            "_model_module": "@jupyter-widgets/controls"
          }
        },
        "1ec7dfedc7da473bad225d44237c9133": {
          "model_module": "@jupyter-widgets/base",
          "model_name": "LayoutModel",
          "model_module_version": "1.2.0",
          "state": {
            "_view_name": "LayoutView",
            "grid_template_rows": null,
            "right": null,
            "justify_content": null,
            "_view_module": "@jupyter-widgets/base",
            "overflow": null,
            "_model_module_version": "1.2.0",
            "_view_count": null,
            "flex_flow": null,
            "width": null,
            "min_width": null,
            "border": null,
            "align_items": null,
            "bottom": null,
            "_model_module": "@jupyter-widgets/base",
            "top": null,
            "grid_column": null,
            "overflow_y": null,
            "overflow_x": null,
            "grid_auto_flow": null,
            "grid_area": null,
            "grid_template_columns": null,
            "flex": null,
            "_model_name": "LayoutModel",
            "justify_items": null,
            "grid_row": null,
            "max_height": null,
            "align_content": null,
            "visibility": null,
            "align_self": null,
            "height": null,
            "min_height": null,
            "padding": null,
            "grid_auto_rows": null,
            "grid_gap": null,
            "max_width": null,
            "order": null,
            "_view_module_version": "1.2.0",
            "grid_template_areas": null,
            "object_position": null,
            "object_fit": null,
            "grid_auto_columns": null,
            "margin": null,
            "display": null,
            "left": null
          }
        },
        "e79b788079494a3293469a7d46ad58af": {
          "model_module": "@jupyter-widgets/base",
          "model_name": "LayoutModel",
          "model_module_version": "1.2.0",
          "state": {
            "_view_name": "LayoutView",
            "grid_template_rows": null,
            "right": null,
            "justify_content": null,
            "_view_module": "@jupyter-widgets/base",
            "overflow": null,
            "_model_module_version": "1.2.0",
            "_view_count": null,
            "flex_flow": null,
            "width": null,
            "min_width": null,
            "border": null,
            "align_items": null,
            "bottom": null,
            "_model_module": "@jupyter-widgets/base",
            "top": null,
            "grid_column": null,
            "overflow_y": null,
            "overflow_x": null,
            "grid_auto_flow": null,
            "grid_area": null,
            "grid_template_columns": null,
            "flex": null,
            "_model_name": "LayoutModel",
            "justify_items": null,
            "grid_row": null,
            "max_height": null,
            "align_content": null,
            "visibility": null,
            "align_self": null,
            "height": null,
            "min_height": null,
            "padding": null,
            "grid_auto_rows": null,
            "grid_gap": null,
            "max_width": null,
            "order": null,
            "_view_module_version": "1.2.0",
            "grid_template_areas": null,
            "object_position": null,
            "object_fit": null,
            "grid_auto_columns": null,
            "margin": null,
            "display": null,
            "left": null
          }
        },
        "bde8396cc50b4df3aef2fc4ff7a2c963": {
          "model_module": "@jupyter-widgets/controls",
          "model_name": "VBoxModel",
          "model_module_version": "1.5.0",
          "state": {
            "_view_name": "VBoxView",
            "_dom_classes": [
              "widget-interact"
            ],
            "_model_name": "VBoxModel",
            "_view_module": "@jupyter-widgets/controls",
            "_model_module_version": "1.5.0",
            "_view_count": null,
            "_view_module_version": "1.5.0",
            "box_style": "",
            "layout": "IPY_MODEL_6b6d80fa761346879cbe7dce53cc34d5",
            "_model_module": "@jupyter-widgets/controls",
            "children": [
              "IPY_MODEL_d504ed1634ab4128a2ba7e1da847e2be",
              "IPY_MODEL_a341336dbbce442dad76b60dd437881c",
              "IPY_MODEL_d0722bef07a84e2a9e0ef4fc9ddc7c27"
            ]
          }
        },
        "6b6d80fa761346879cbe7dce53cc34d5": {
          "model_module": "@jupyter-widgets/base",
          "model_name": "LayoutModel",
          "model_module_version": "1.2.0",
          "state": {
            "_view_name": "LayoutView",
            "grid_template_rows": null,
            "right": null,
            "justify_content": null,
            "_view_module": "@jupyter-widgets/base",
            "overflow": null,
            "_model_module_version": "1.2.0",
            "_view_count": null,
            "flex_flow": null,
            "width": null,
            "min_width": null,
            "border": null,
            "align_items": null,
            "bottom": null,
            "_model_module": "@jupyter-widgets/base",
            "top": null,
            "grid_column": null,
            "overflow_y": null,
            "overflow_x": null,
            "grid_auto_flow": null,
            "grid_area": null,
            "grid_template_columns": null,
            "flex": null,
            "_model_name": "LayoutModel",
            "justify_items": null,
            "grid_row": null,
            "max_height": null,
            "align_content": null,
            "visibility": null,
            "align_self": null,
            "height": null,
            "min_height": null,
            "padding": null,
            "grid_auto_rows": null,
            "grid_gap": null,
            "max_width": null,
            "order": null,
            "_view_module_version": "1.2.0",
            "grid_template_areas": null,
            "object_position": null,
            "object_fit": null,
            "grid_auto_columns": null,
            "margin": null,
            "display": null,
            "left": null
          }
        },
        "d504ed1634ab4128a2ba7e1da847e2be": {
          "model_module": "@jupyter-widgets/controls",
          "model_name": "DropdownModel",
          "model_module_version": "1.5.0",
          "state": {
            "_options_labels": [
              "L1",
              "L2",
              "M",
              "lphi",
              "lunit"
            ],
            "_view_name": "DropdownView",
            "style": "IPY_MODEL_1bbd3cc536f84bdca7eca8ca93aa92fb",
            "_dom_classes": [],
            "description": "L",
            "_model_name": "DropdownModel",
            "index": 0,
            "_view_module": "@jupyter-widgets/controls",
            "_model_module_version": "1.5.0",
            "_view_count": null,
            "disabled": false,
            "_view_module_version": "1.5.0",
            "description_tooltip": null,
            "_model_module": "@jupyter-widgets/controls",
            "layout": "IPY_MODEL_3e93e1fcc7b04951901d4cb14ae2bb60"
          }
        },
        "a341336dbbce442dad76b60dd437881c": {
          "model_module": "@jupyter-widgets/controls",
          "model_name": "IntSliderModel",
          "model_module_version": "1.5.0",
          "state": {
            "_view_name": "IntSliderView",
            "style": "IPY_MODEL_1ff08c06ceb04fa1a1d210440b188655",
            "_dom_classes": [],
            "description": "n",
            "step": 1,
            "_model_name": "IntSliderModel",
            "orientation": "horizontal",
            "max": 7,
            "_view_module": "@jupyter-widgets/controls",
            "_model_module_version": "1.5.0",
            "value": 3,
            "_view_count": null,
            "disabled": false,
            "_view_module_version": "1.5.0",
            "min": 0,
            "continuous_update": true,
            "readout_format": "d",
            "description_tooltip": null,
            "readout": true,
            "_model_module": "@jupyter-widgets/controls",
            "layout": "IPY_MODEL_d02d08657bba48b4a232b95ac314f30d"
          }
        },
        "d0722bef07a84e2a9e0ef4fc9ddc7c27": {
          "model_module": "@jupyter-widgets/output",
          "model_name": "OutputModel",
          "model_module_version": "1.0.0",
          "state": {
            "_view_name": "OutputView",
            "msg_id": "",
            "_dom_classes": [],
            "_model_name": "OutputModel",
            "outputs": [
              {
                "output_type": "display_data",
                "data": {
                  "text/plain": [
                    "{'',\n",
                    " 'a',\n",
                    " 'aa',\n",
                    " 'aaa',\n",
                    " 'aabc',\n",
                    " 'abc',\n",
                    " 'abca',\n",
                    " 'abcbc',\n",
                    " 'bc',\n",
                    " 'bca',\n",
                    " 'bcaa',\n",
                    " 'bcabc',\n",
                    " 'bcbc',\n",
                    " 'bcbca',\n",
                    " 'bcbcbc'}"
                  ]
                },
                "metadata": {}
              }
            ],
            "_view_module": "@jupyter-widgets/output",
            "_model_module_version": "1.0.0",
            "_view_count": null,
            "_view_module_version": "1.0.0",
            "layout": "IPY_MODEL_86b58f6f21fe498bacc210bf38e77fa0",
            "_model_module": "@jupyter-widgets/output"
          }
        },
        "1bbd3cc536f84bdca7eca8ca93aa92fb": {
          "model_module": "@jupyter-widgets/controls",
          "model_name": "DescriptionStyleModel",
          "model_module_version": "1.5.0",
          "state": {
            "_view_name": "StyleView",
            "_model_name": "DescriptionStyleModel",
            "description_width": "",
            "_view_module": "@jupyter-widgets/base",
            "_model_module_version": "1.5.0",
            "_view_count": null,
            "_view_module_version": "1.2.0",
            "_model_module": "@jupyter-widgets/controls"
          }
        },
        "3e93e1fcc7b04951901d4cb14ae2bb60": {
          "model_module": "@jupyter-widgets/base",
          "model_name": "LayoutModel",
          "model_module_version": "1.2.0",
          "state": {
            "_view_name": "LayoutView",
            "grid_template_rows": null,
            "right": null,
            "justify_content": null,
            "_view_module": "@jupyter-widgets/base",
            "overflow": null,
            "_model_module_version": "1.2.0",
            "_view_count": null,
            "flex_flow": null,
            "width": null,
            "min_width": null,
            "border": null,
            "align_items": null,
            "bottom": null,
            "_model_module": "@jupyter-widgets/base",
            "top": null,
            "grid_column": null,
            "overflow_y": null,
            "overflow_x": null,
            "grid_auto_flow": null,
            "grid_area": null,
            "grid_template_columns": null,
            "flex": null,
            "_model_name": "LayoutModel",
            "justify_items": null,
            "grid_row": null,
            "max_height": null,
            "align_content": null,
            "visibility": null,
            "align_self": null,
            "height": null,
            "min_height": null,
            "padding": null,
            "grid_auto_rows": null,
            "grid_gap": null,
            "max_width": null,
            "order": null,
            "_view_module_version": "1.2.0",
            "grid_template_areas": null,
            "object_position": null,
            "object_fit": null,
            "grid_auto_columns": null,
            "margin": null,
            "display": null,
            "left": null
          }
        },
        "1ff08c06ceb04fa1a1d210440b188655": {
          "model_module": "@jupyter-widgets/controls",
          "model_name": "SliderStyleModel",
          "model_module_version": "1.5.0",
          "state": {
            "_view_name": "StyleView",
            "handle_color": null,
            "_model_name": "SliderStyleModel",
            "description_width": "",
            "_view_module": "@jupyter-widgets/base",
            "_model_module_version": "1.5.0",
            "_view_count": null,
            "_view_module_version": "1.2.0",
            "_model_module": "@jupyter-widgets/controls"
          }
        },
        "d02d08657bba48b4a232b95ac314f30d": {
          "model_module": "@jupyter-widgets/base",
          "model_name": "LayoutModel",
          "model_module_version": "1.2.0",
          "state": {
            "_view_name": "LayoutView",
            "grid_template_rows": null,
            "right": null,
            "justify_content": null,
            "_view_module": "@jupyter-widgets/base",
            "overflow": null,
            "_model_module_version": "1.2.0",
            "_view_count": null,
            "flex_flow": null,
            "width": null,
            "min_width": null,
            "border": null,
            "align_items": null,
            "bottom": null,
            "_model_module": "@jupyter-widgets/base",
            "top": null,
            "grid_column": null,
            "overflow_y": null,
            "overflow_x": null,
            "grid_auto_flow": null,
            "grid_area": null,
            "grid_template_columns": null,
            "flex": null,
            "_model_name": "LayoutModel",
            "justify_items": null,
            "grid_row": null,
            "max_height": null,
            "align_content": null,
            "visibility": null,
            "align_self": null,
            "height": null,
            "min_height": null,
            "padding": null,
            "grid_auto_rows": null,
            "grid_gap": null,
            "max_width": null,
            "order": null,
            "_view_module_version": "1.2.0",
            "grid_template_areas": null,
            "object_position": null,
            "object_fit": null,
            "grid_auto_columns": null,
            "margin": null,
            "display": null,
            "left": null
          }
        },
        "86b58f6f21fe498bacc210bf38e77fa0": {
          "model_module": "@jupyter-widgets/base",
          "model_name": "LayoutModel",
          "model_module_version": "1.2.0",
          "state": {
            "_view_name": "LayoutView",
            "grid_template_rows": null,
            "right": null,
            "justify_content": null,
            "_view_module": "@jupyter-widgets/base",
            "overflow": null,
            "_model_module_version": "1.2.0",
            "_view_count": null,
            "flex_flow": null,
            "width": null,
            "min_width": null,
            "border": null,
            "align_items": null,
            "bottom": null,
            "_model_module": "@jupyter-widgets/base",
            "top": null,
            "grid_column": null,
            "overflow_y": null,
            "overflow_x": null,
            "grid_auto_flow": null,
            "grid_area": null,
            "grid_template_columns": null,
            "flex": null,
            "_model_name": "LayoutModel",
            "justify_items": null,
            "grid_row": null,
            "max_height": null,
            "align_content": null,
            "visibility": null,
            "align_self": null,
            "height": null,
            "min_height": null,
            "padding": null,
            "grid_auto_rows": null,
            "grid_gap": null,
            "max_width": null,
            "order": null,
            "_view_module_version": "1.2.0",
            "grid_template_areas": null,
            "object_position": null,
            "object_fit": null,
            "grid_auto_columns": null,
            "margin": null,
            "display": null,
            "left": null
          }
        },
        "af170f3385e441528a6f67821615d60f": {
          "model_module": "@jupyter-widgets/controls",
          "model_name": "VBoxModel",
          "model_module_version": "1.5.0",
          "state": {
            "_view_name": "VBoxView",
            "_dom_classes": [
              "widget-interact"
            ],
            "_model_name": "VBoxModel",
            "_view_module": "@jupyter-widgets/controls",
            "_model_module_version": "1.5.0",
            "_view_count": null,
            "_view_module_version": "1.5.0",
            "box_style": "",
            "layout": "IPY_MODEL_9ab7a6e87a874637a6ba66cd6ff30f1d",
            "_model_module": "@jupyter-widgets/controls",
            "children": [
              "IPY_MODEL_266bbb4d24dc402aba539c9adf1eca8e",
              "IPY_MODEL_768761835b1c49029176a80cec265841",
              "IPY_MODEL_7a402508726b4cbbb8cc47bdb39d293d"
            ]
          }
        },
        "9ab7a6e87a874637a6ba66cd6ff30f1d": {
          "model_module": "@jupyter-widgets/base",
          "model_name": "LayoutModel",
          "model_module_version": "1.2.0",
          "state": {
            "_view_name": "LayoutView",
            "grid_template_rows": null,
            "right": null,
            "justify_content": null,
            "_view_module": "@jupyter-widgets/base",
            "overflow": null,
            "_model_module_version": "1.2.0",
            "_view_count": null,
            "flex_flow": null,
            "width": null,
            "min_width": null,
            "border": null,
            "align_items": null,
            "bottom": null,
            "_model_module": "@jupyter-widgets/base",
            "top": null,
            "grid_column": null,
            "overflow_y": null,
            "overflow_x": null,
            "grid_auto_flow": null,
            "grid_area": null,
            "grid_template_columns": null,
            "flex": null,
            "_model_name": "LayoutModel",
            "justify_items": null,
            "grid_row": null,
            "max_height": null,
            "align_content": null,
            "visibility": null,
            "align_self": null,
            "height": null,
            "min_height": null,
            "padding": null,
            "grid_auto_rows": null,
            "grid_gap": null,
            "max_width": null,
            "order": null,
            "_view_module_version": "1.2.0",
            "grid_template_areas": null,
            "object_position": null,
            "object_fit": null,
            "grid_auto_columns": null,
            "margin": null,
            "display": null,
            "left": null
          }
        },
        "266bbb4d24dc402aba539c9adf1eca8e": {
          "model_module": "@jupyter-widgets/controls",
          "model_name": "DropdownModel",
          "model_module_version": "1.5.0",
          "state": {
            "_options_labels": [
              "Alph1",
              "Alph2"
            ],
            "_view_name": "DropdownView",
            "style": "IPY_MODEL_61d61c45b8f04d81bb17dc7f92c78bd3",
            "_dom_classes": [],
            "description": "L",
            "_model_name": "DropdownModel",
            "index": 0,
            "_view_module": "@jupyter-widgets/controls",
            "_model_module_version": "1.5.0",
            "_view_count": null,
            "disabled": false,
            "_view_module_version": "1.5.0",
            "description_tooltip": null,
            "_model_module": "@jupyter-widgets/controls",
            "layout": "IPY_MODEL_eb7b6567e06347298266e52c7ebef29f"
          }
        },
        "768761835b1c49029176a80cec265841": {
          "model_module": "@jupyter-widgets/controls",
          "model_name": "IntSliderModel",
          "model_module_version": "1.5.0",
          "state": {
            "_view_name": "IntSliderView",
            "style": "IPY_MODEL_49f4085025964613bcfca7e8dd9b0c3a",
            "_dom_classes": [],
            "description": "n",
            "step": 1,
            "_model_name": "IntSliderModel",
            "orientation": "horizontal",
            "max": 7,
            "_view_module": "@jupyter-widgets/controls",
            "_model_module_version": "1.5.0",
            "value": 3,
            "_view_count": null,
            "disabled": false,
            "_view_module_version": "1.5.0",
            "min": 0,
            "continuous_update": true,
            "readout_format": "d",
            "description_tooltip": null,
            "readout": true,
            "_model_module": "@jupyter-widgets/controls",
            "layout": "IPY_MODEL_ea78cd8d676948cd8a6020d1d4ec0aec"
          }
        },
        "7a402508726b4cbbb8cc47bdb39d293d": {
          "model_module": "@jupyter-widgets/output",
          "model_name": "OutputModel",
          "model_module_version": "1.0.0",
          "state": {
            "_view_name": "OutputView",
            "msg_id": "",
            "_dom_classes": [],
            "_model_name": "OutputModel",
            "outputs": [
              {
                "output_type": "display_data",
                "data": {
                  "text/plain": [
                    "{'',\n",
                    " 'a',\n",
                    " 'aa',\n",
                    " 'aaa',\n",
                    " 'aab',\n",
                    " 'ab',\n",
                    " 'aba',\n",
                    " 'abb',\n",
                    " 'b',\n",
                    " 'ba',\n",
                    " 'baa',\n",
                    " 'bab',\n",
                    " 'bb',\n",
                    " 'bba',\n",
                    " 'bbb'}"
                  ]
                },
                "metadata": {}
              }
            ],
            "_view_module": "@jupyter-widgets/output",
            "_model_module_version": "1.0.0",
            "_view_count": null,
            "_view_module_version": "1.0.0",
            "layout": "IPY_MODEL_e7312cab454b4f6f91a83fb967d04585",
            "_model_module": "@jupyter-widgets/output"
          }
        },
        "61d61c45b8f04d81bb17dc7f92c78bd3": {
          "model_module": "@jupyter-widgets/controls",
          "model_name": "DescriptionStyleModel",
          "model_module_version": "1.5.0",
          "state": {
            "_view_name": "StyleView",
            "_model_name": "DescriptionStyleModel",
            "description_width": "",
            "_view_module": "@jupyter-widgets/base",
            "_model_module_version": "1.5.0",
            "_view_count": null,
            "_view_module_version": "1.2.0",
            "_model_module": "@jupyter-widgets/controls"
          }
        },
        "eb7b6567e06347298266e52c7ebef29f": {
          "model_module": "@jupyter-widgets/base",
          "model_name": "LayoutModel",
          "model_module_version": "1.2.0",
          "state": {
            "_view_name": "LayoutView",
            "grid_template_rows": null,
            "right": null,
            "justify_content": null,
            "_view_module": "@jupyter-widgets/base",
            "overflow": null,
            "_model_module_version": "1.2.0",
            "_view_count": null,
            "flex_flow": null,
            "width": null,
            "min_width": null,
            "border": null,
            "align_items": null,
            "bottom": null,
            "_model_module": "@jupyter-widgets/base",
            "top": null,
            "grid_column": null,
            "overflow_y": null,
            "overflow_x": null,
            "grid_auto_flow": null,
            "grid_area": null,
            "grid_template_columns": null,
            "flex": null,
            "_model_name": "LayoutModel",
            "justify_items": null,
            "grid_row": null,
            "max_height": null,
            "align_content": null,
            "visibility": null,
            "align_self": null,
            "height": null,
            "min_height": null,
            "padding": null,
            "grid_auto_rows": null,
            "grid_gap": null,
            "max_width": null,
            "order": null,
            "_view_module_version": "1.2.0",
            "grid_template_areas": null,
            "object_position": null,
            "object_fit": null,
            "grid_auto_columns": null,
            "margin": null,
            "display": null,
            "left": null
          }
        },
        "49f4085025964613bcfca7e8dd9b0c3a": {
          "model_module": "@jupyter-widgets/controls",
          "model_name": "SliderStyleModel",
          "model_module_version": "1.5.0",
          "state": {
            "_view_name": "StyleView",
            "handle_color": null,
            "_model_name": "SliderStyleModel",
            "description_width": "",
            "_view_module": "@jupyter-widgets/base",
            "_model_module_version": "1.5.0",
            "_view_count": null,
            "_view_module_version": "1.2.0",
            "_model_module": "@jupyter-widgets/controls"
          }
        },
        "ea78cd8d676948cd8a6020d1d4ec0aec": {
          "model_module": "@jupyter-widgets/base",
          "model_name": "LayoutModel",
          "model_module_version": "1.2.0",
          "state": {
            "_view_name": "LayoutView",
            "grid_template_rows": null,
            "right": null,
            "justify_content": null,
            "_view_module": "@jupyter-widgets/base",
            "overflow": null,
            "_model_module_version": "1.2.0",
            "_view_count": null,
            "flex_flow": null,
            "width": null,
            "min_width": null,
            "border": null,
            "align_items": null,
            "bottom": null,
            "_model_module": "@jupyter-widgets/base",
            "top": null,
            "grid_column": null,
            "overflow_y": null,
            "overflow_x": null,
            "grid_auto_flow": null,
            "grid_area": null,
            "grid_template_columns": null,
            "flex": null,
            "_model_name": "LayoutModel",
            "justify_items": null,
            "grid_row": null,
            "max_height": null,
            "align_content": null,
            "visibility": null,
            "align_self": null,
            "height": null,
            "min_height": null,
            "padding": null,
            "grid_auto_rows": null,
            "grid_gap": null,
            "max_width": null,
            "order": null,
            "_view_module_version": "1.2.0",
            "grid_template_areas": null,
            "object_position": null,
            "object_fit": null,
            "grid_auto_columns": null,
            "margin": null,
            "display": null,
            "left": null
          }
        },
        "e7312cab454b4f6f91a83fb967d04585": {
          "model_module": "@jupyter-widgets/base",
          "model_name": "LayoutModel",
          "model_module_version": "1.2.0",
          "state": {
            "_view_name": "LayoutView",
            "grid_template_rows": null,
            "right": null,
            "justify_content": null,
            "_view_module": "@jupyter-widgets/base",
            "overflow": null,
            "_model_module_version": "1.2.0",
            "_view_count": null,
            "flex_flow": null,
            "width": null,
            "min_width": null,
            "border": null,
            "align_items": null,
            "bottom": null,
            "_model_module": "@jupyter-widgets/base",
            "top": null,
            "grid_column": null,
            "overflow_y": null,
            "overflow_x": null,
            "grid_auto_flow": null,
            "grid_area": null,
            "grid_template_columns": null,
            "flex": null,
            "_model_name": "LayoutModel",
            "justify_items": null,
            "grid_row": null,
            "max_height": null,
            "align_content": null,
            "visibility": null,
            "align_self": null,
            "height": null,
            "min_height": null,
            "padding": null,
            "grid_auto_rows": null,
            "grid_gap": null,
            "max_width": null,
            "order": null,
            "_view_module_version": "1.2.0",
            "grid_template_areas": null,
            "object_position": null,
            "object_fit": null,
            "grid_auto_columns": null,
            "margin": null,
            "display": null,
            "left": null
          }
        }
      }
    }
  },
  "cells": [
    {
      "cell_type": "markdown",
      "metadata": {
        "run_control": {
          "frozen": false,
          "read_only": false
        },
        "id": "8x2gUT6pzonX"
      },
      "source": [
        "# Details covering Ch2, Ch3\n",
        "\n",
        "## Main Addition: Full definitions of various language builder functions presented here\n",
        "\n",
        "Some of the material in this module could be repetitious, but still good practice.\n",
        "\n",
        "A video describing the use of this module is below. Following that, we present the top-level functions defined in this module. Then come the function definitions themselves, and finally some tests that drive the functions and illustrate their usage.\n",
        "\n",
        "**Note**: Some of the contents of the video below may not correspond to the latest code in these notebooks. However the principles remain the same.\n",
        "\n",
        "**Note**: All functions have good internal documentation; so for example, if you run \"help(lstar)\", it will fully describe the lstar function.\n",
        "\n",
        "**Note**: The definition of nthnumeric has evolved (it now expects a list as its second argument)."
      ]
    },
    {
      "cell_type": "markdown",
      "metadata": {
        "id": "o8WQQ6REzonk"
      },
      "source": [
        "## This video is the same as in 1c -- less than 18 mins, so plz watch to recap!"
      ]
    },
    {
      "cell_type": "code",
      "metadata": {
        "editable": false,
        "run_control": {
          "frozen": false,
          "read_only": false
        },
        "scrolled": true,
        "id": "ze3orl2Rzonn",
        "colab": {
          "base_uri": "https://localhost:8080/",
          "height": 321
        },
        "outputId": "8713c3fb-b7af-4a67-c449-6530d7339e70"
      },
      "source": [
        "from IPython.display import YouTubeVideo\n",
        "YouTubeVideo('TAEYvJn5eGc')"
      ],
      "execution_count": 1,
      "outputs": [
        {
          "output_type": "execute_result",
          "data": {
            "text/html": [
              "\n",
              "        <iframe\n",
              "            width=\"400\"\n",
              "            height=\"300\"\n",
              "            src=\"https://www.youtube.com/embed/TAEYvJn5eGc\"\n",
              "            frameborder=\"0\"\n",
              "            allowfullscreen\n",
              "        ></iframe>\n",
              "        "
            ],
            "text/plain": [
              "<IPython.lib.display.YouTubeVideo at 0x7f349f81ab90>"
            ],
            "image/jpeg": "[encoded data removed]"
          },
          "metadata": {},
          "execution_count": 1
        }
      ]
    },
    {
      "cell_type": "markdown",
      "metadata": {
        "run_control": {
          "frozen": false,
          "read_only": false
        },
        "id": "0Wkxs5F_zonq"
      },
      "source": [
        "# Top-level functions in this module\n",
        " \n",
        "help(lphi)\n",
        "help(lunit)\n",
        "help(lcat)\n",
        "help(lexp)\n",
        "help(lunion)\n",
        "help(lstar)\n",
        "help(srev)\n",
        "help(lrev)\n",
        "help(shomo)\n",
        "help(lhomo)\n",
        "help(powset)\n",
        "help(lint)\n",
        "help(lsymdiff)\n",
        "help(lminus)\n",
        "help(lissubset)\n",
        "help(lissuperset)\n",
        "help(lcomplem)\n",
        "help(product)\n",
        "help(nthnumeric)\n"
      ]
    },
    {
      "cell_type": "markdown",
      "metadata": {
        "editable": false,
        "run_control": {
          "frozen": false,
          "read_only": false
        },
        "id": "KGBrA5JGzons"
      },
      "source": [
        "<span style=\"color:blue\"> **Now we begin following along Chapter-2 of the book ** </span>\n",
        "\n",
        "# Chapter-2: Alphabet and Languages\n",
        "\n",
        "We begin our study of Alphabets and Languages. Please read the book. You *must* be doing two kinds of exercises:\n",
        "\n",
        "* Do exercises on paper. That is the math you need from this course. There is no short-cut to it.\n",
        "\n",
        "* Do the programming challenges (and play with the code) presented in this notebook (more exercises will be added). This programming part builds intuitions and helps knowledge stick. \n",
        "\n",
        "> Let us recall Prof. John McCarthy's quote\n",
        "\n",
        ">> You do not understand anything unless you have studied it in multiple ways\n",
        "\n",
        "It is to facilitate the \"study in multiple ways\" that the programming part is being given to you. It is the centerpiece of this work."
      ]
    },
    {
      "cell_type": "markdown",
      "metadata": {
        "editable": false,
        "run_control": {
          "frozen": false,
          "read_only": false
        },
        "id": "N_e5fpIuzont"
      },
      "source": [
        "<span style=\"color:blue\"> **Coding philosophy:** </span>\n",
        "\n",
        "Clearly, the code in this book can be cast into an object-oriented style. We avoid doing so for these reasons:\n",
        "\n",
        "* We want to keep the barrier to entry as low as possible. In fact, we are extremely parsimonious in our use of Python constructs. \n",
        "\n",
        "* We prefer to modularize each concept into specific sections where we treat the math and code as being almost at the same level. We also want these Jupyter notes to resemble Knuth's \"literate programs\". More reasons will be given in the Jupyter notes of Chapter 3."
      ]
    },
    {
      "cell_type": "markdown",
      "metadata": {
        "editable": false,
        "run_control": {
          "frozen": false,
          "read_only": false
        },
        "id": "mEB0TBfGzonv"
      },
      "source": [
        "<span style=\"color:blue\"> **------** </span>\n",
        "\n",
        "OK, now onto our subject matter!\n",
        "\n",
        "## Alphabet and Language\n",
        "\n",
        "\n",
        "An Alphabet is a *finite* set of finitary items, often called \"symbols\" - usually they are single characters, but they also could be finite strings or (in the case of GNFA) be themselves regular expressions.  Just think of an Alphabet $\\Sigma$ to be a *finite* and *non-empty* set of symbols.\n",
        "\n",
        " \n",
        "__Language__:\n",
        "\n",
        "\n",
        "A language is a set of sequences (strings) of symbols. We define languages through Python code as follows. \n",
        "\n",
        "We are defining regular languages here. \n",
        "\n",
        "The simplest regular language is $\\emptyset$, the empty language. This is like the \"zero\" of a language. Why so? We know that \"0\" is the annihilator for multiplication, i.e. 3 $\\times$ 0 = 0. What is the multiplication operation for languages? It is concatenation!\n",
        "\n",
        "\n",
        "* Notice that in almost all cases, languages are encoded using Python sets.\n",
        "\n",
        "* Exceptions will be pointed out when they occur.\n",
        "\n",
        "* Also, in almost all cases, languages are sets of strings."
      ]
    },
    {
      "cell_type": "markdown",
      "metadata": {
        "editable": false,
        "run_control": {
          "frozen": false,
          "read_only": false
        },
        "id": "EdzyQlc9zon2"
      },
      "source": [
        "__Zero Language__:\n",
        "\n",
        "<span style=\"color:blue\"> **We begin with the empty language (ZERO of a language). We use lphi() to refere to this language, as phi (Greek symbol) is used to denote the empty set. ** </span>"
      ]
    },
    {
      "cell_type": "code",
      "metadata": {
        "code_folding": [
          3
        ],
        "editable": false,
        "run_control": {
          "frozen": false,
          "read_only": false
        },
        "id": "e7XmCY2Wzon4"
      },
      "source": [
        "# The theory of languages : Primitive languages and language builders\n",
        "\n",
        "def lphi():\n",
        "    \"\"\"In : None.\n",
        "       Out: Zero language, i.e. set({}).\n",
        "    \"\"\"\n",
        "    return set({})  # {} could be dict; so we put set(..)"
      ],
      "execution_count": 2,
      "outputs": []
    },
    {
      "cell_type": "code",
      "metadata": {
        "run_control": {
          "frozen": false,
          "read_only": false
        },
        "id": "yLD02TQszon6",
        "colab": {
          "base_uri": "https://localhost:8080/"
        },
        "outputId": "321bb714-ccb5-495b-a192-6dd3156dd982"
      },
      "source": [
        "lphi()"
      ],
      "execution_count": 3,
      "outputs": [
        {
          "output_type": "execute_result",
          "data": {
            "text/plain": [
              "set()"
            ]
          },
          "metadata": {},
          "execution_count": 3
        }
      ]
    },
    {
      "cell_type": "markdown",
      "metadata": {
        "editable": false,
        "run_control": {
          "frozen": false,
          "read_only": false
        },
        "id": "mIJf6Ddwzon8"
      },
      "source": [
        "__Unit Language__:\n",
        "\n",
        "<span style=\"color:blue\"> **Now we define the Unit language (ONE of a language) as well as concatenation. We use lunit() and lcat() to refer to these operations. ** </span>"
      ]
    },
    {
      "cell_type": "markdown",
      "metadata": {
        "editable": false,
        "run_control": {
          "frozen": false,
          "read_only": false
        },
        "id": "HYF9MS-Izon8"
      },
      "source": [
        "Now let us define the Unit language (\"1\" for languages with respect to concatenation viewed as multiplication).\n",
        "\n",
        "Let us also define language concatenation.\n",
        "\n",
        "> $L1 \\; L2 \\;\\; =\\;\\;  \\{x y \\; \\mid \\; x\\in L1 \\;\\wedge\\; y\\in L2\\}$"
      ]
    },
    {
      "cell_type": "markdown",
      "metadata": {
        "editable": false,
        "run_control": {
          "frozen": false,
          "read_only": false
        },
        "id": "nfumc9Ywzon-"
      },
      "source": [
        "# Documentation Conventions\n",
        "\n",
        "* Functions will have comment strings that start with \"\"\" and end with \"\"\"\n",
        "* In : will specify inputs separately, mentioning conceptual object and rep (Python data-type) \n",
        "* Out: will mention output, mentioning conceptual object and rep (Python data-type)\n",
        "* Sometimes an example will follow\n",
        "* Extremely simple helper functions won't have much of a doc (usually a one-liner)\n",
        "* Example documentation:\n",
        "```\n",
        "  \"\"\"In : L1 (language : a set),\n",
        "          L2 (language : a set).\n",
        "     Out: L1 concat L2 (language : a set).\n",
        "     Example:\n",
        "     L1 = {'ab', 'bc'} \n",
        "     L2 = {'11', 'ab', '22'} \n",
        "     lcat(L1,L2) -> {'abab', 'bc22', 'ab11', 'ab22', 'bcab', 'bc11'}\n",
        "  \"\"\"\n",
        "```"
      ]
    },
    {
      "cell_type": "code",
      "metadata": {
        "editable": false,
        "run_control": {
          "frozen": false,
          "read_only": false
        },
        "id": "J1vnO-Rtzon_"
      },
      "source": [
        "def lunit():\n",
        "    \"\"\"In : None.\n",
        "       Out: {\"\"} (a language : a set).\n",
        "    \"\"\"\n",
        "    return {\"\"} # Set with epsilon\n",
        "\n",
        "def lcat(L1,L2):\n",
        "    \"\"\"In : L1 (language : a set),\n",
        "            L2 (language : a set).\n",
        "       Out: L1 concat L2 (language : a set).\n",
        "       Example:\n",
        "       L1 = {'ab', 'bc'} \n",
        "       L2 = {'11', 'ab', '22'} \n",
        "       lcat(L1,L2) -> {'abab', 'bc22', 'ab11', 'ab22', 'bcab', 'bc11'}\n",
        "    \"\"\"\n",
        "    return {x+y for x in L1 for y in L2}"
      ],
      "execution_count": 4,
      "outputs": []
    },
    {
      "cell_type": "code",
      "metadata": {
        "run_control": {
          "frozen": false,
          "read_only": false
        },
        "id": "PdSnlesizooA",
        "colab": {
          "base_uri": "https://localhost:8080/",
          "height": 35
        },
        "outputId": "3b0fefc2-784f-402e-a44e-e882bc222115"
      },
      "source": [
        "\"\""
      ],
      "execution_count": 5,
      "outputs": [
        {
          "output_type": "execute_result",
          "data": {
            "application/vnd.google.colaboratory.intrinsic+json": {
              "type": "string"
            },
            "text/plain": [
              "''"
            ]
          },
          "metadata": {},
          "execution_count": 5
        }
      ]
    },
    {
      "cell_type": "code",
      "metadata": {
        "run_control": {
          "frozen": false,
          "read_only": false
        },
        "id": "i3T3Q3YrzooB",
        "colab": {
          "base_uri": "https://localhost:8080/"
        },
        "outputId": "56353174-fd18-4355-fad4-57b59308c95d"
      },
      "source": [
        "L1 = {\"a\" * n for n in range(0,3)}\n",
        "L1"
      ],
      "execution_count": 6,
      "outputs": [
        {
          "output_type": "execute_result",
          "data": {
            "text/plain": [
              "{'', 'a', 'aa'}"
            ]
          },
          "metadata": {},
          "execution_count": 6
        }
      ]
    },
    {
      "cell_type": "code",
      "metadata": {
        "run_control": {
          "frozen": false,
          "read_only": false
        },
        "id": "hIZzMAExzooB",
        "colab": {
          "base_uri": "https://localhost:8080/"
        },
        "outputId": "f18a7a74-7adf-4044-af9a-343cfd49fbd6"
      },
      "source": [
        "L2 = {\"b\" * m for m in range(0,2)}\n",
        "L2"
      ],
      "execution_count": 7,
      "outputs": [
        {
          "output_type": "execute_result",
          "data": {
            "text/plain": [
              "{'', 'b'}"
            ]
          },
          "metadata": {},
          "execution_count": 7
        }
      ]
    },
    {
      "cell_type": "code",
      "metadata": {
        "run_control": {
          "frozen": false,
          "read_only": false
        },
        "id": "cZtn779gzooC",
        "colab": {
          "base_uri": "https://localhost:8080/"
        },
        "outputId": "a9c269f9-9979-4839-8211-e72ff6379814"
      },
      "source": [
        "lcat(L1,L2)"
      ],
      "execution_count": 8,
      "outputs": [
        {
          "output_type": "execute_result",
          "data": {
            "text/plain": [
              "{'', 'a', 'aa', 'aab', 'ab', 'b'}"
            ]
          },
          "metadata": {},
          "execution_count": 8
        }
      ]
    },
    {
      "cell_type": "code",
      "metadata": {
        "run_control": {
          "frozen": false,
          "read_only": false
        },
        "id": "h-JfwQbozooC",
        "colab": {
          "base_uri": "https://localhost:8080/"
        },
        "outputId": "4c9641c4-a686-4ab2-9b44-1b1f8d0b1766"
      },
      "source": [
        "lcat(lunit(), L1)"
      ],
      "execution_count": 9,
      "outputs": [
        {
          "output_type": "execute_result",
          "data": {
            "text/plain": [
              "{'', 'a', 'aa'}"
            ]
          },
          "metadata": {},
          "execution_count": 9
        }
      ]
    },
    {
      "cell_type": "code",
      "metadata": {
        "run_control": {
          "frozen": false,
          "read_only": false
        },
        "id": "ptcXCQLFzooC",
        "colab": {
          "base_uri": "https://localhost:8080/"
        },
        "outputId": "14e1a04d-6487-457a-f211-155394f9e53f"
      },
      "source": [
        "x = {'','a'}\n",
        "xcrossx = { (a,b) for a in x for b in x}\n",
        "xcrossx"
      ],
      "execution_count": 10,
      "outputs": [
        {
          "output_type": "execute_result",
          "data": {
            "text/plain": [
              "{('', ''), ('', 'a'), ('a', ''), ('a', 'a')}"
            ]
          },
          "metadata": {},
          "execution_count": 10
        }
      ]
    },
    {
      "cell_type": "code",
      "metadata": {
        "run_control": {
          "frozen": false,
          "read_only": false
        },
        "id": "XVk6IrbYzooD",
        "colab": {
          "base_uri": "https://localhost:8080/"
        },
        "outputId": "fcf71fb1-b16d-4d94-b973-d2a59a142506"
      },
      "source": [
        "len(lcat(x,x)) == len(xcrossx)"
      ],
      "execution_count": 11,
      "outputs": [
        {
          "output_type": "execute_result",
          "data": {
            "text/plain": [
              "False"
            ]
          },
          "metadata": {},
          "execution_count": 11
        }
      ]
    },
    {
      "cell_type": "markdown",
      "metadata": {
        "editable": false,
        "run_control": {
          "frozen": false,
          "read_only": false
        },
        "id": "zIWAfo-lzooD"
      },
      "source": [
        "__Language Concatenation vs. Cartesian Product__:\n",
        "\n",
        "<span style=\"color:blue\"> **Notice the similarity with cartesian product. We draw a string x from L1 and string y from L2, but instead of pairing them, we concatenate them.** </span>"
      ]
    },
    {
      "cell_type": "code",
      "metadata": {
        "editable": false,
        "run_control": {
          "frozen": false,
          "read_only": false
        },
        "id": "dGYKC4LIzooF",
        "colab": {
          "base_uri": "https://localhost:8080/"
        },
        "outputId": "b09c40b6-fb66-4192-b492-21b3263283bc"
      },
      "source": [
        "L = {'a','bc'}\n",
        "\n",
        "print( \"lcat(lphi(), L) = \",  lcat(lphi(), L) )\n",
        " \n",
        "print( \"lcat(lunit(), L) = \",  lcat(lunit(), L)  )"
      ],
      "execution_count": 12,
      "outputs": [
        {
          "output_type": "stream",
          "text": [
            "lcat(lphi(), L) =  set()\n",
            "lcat(lunit(), L) =  {'a', 'bc'}\n"
          ],
          "name": "stdout"
        }
      ]
    },
    {
      "cell_type": "markdown",
      "metadata": {
        "editable": false,
        "run_control": {
          "frozen": false,
          "read_only": false
        },
        "id": "6SRSHhnvzooE"
      },
      "source": [
        "## Illustrations \n",
        "\n",
        "We now illustrate \n",
        "\n",
        "* the Zero language lphi(), \n",
        "\n",
        "* unit language lunit(), \n",
        "\n",
        "* and the lcat() operator\n",
        "\n",
        "Let us take a simple example language L = $\\{{\\text 'a'}, {\\text 'bc'}\\}$ for illustration.\n",
        "\n",
        "Recall that in Python, there are multiple ways to quote strings ('a', \"a\", or \"\"\"a\"\"\"). The main idea is to support the nesting of quotes. So please don't be confused if we accidentally change our quoting method."
      ]
    },
    {
      "cell_type": "markdown",
      "metadata": {
        "editable": false,
        "run_control": {
          "frozen": false,
          "read_only": false
        },
        "id": "FFyvCKkkzooF"
      },
      "source": [
        "\n",
        "Let us define another language through set comprehension, and exercise many different applications of concatenation.\n",
        "\n",
        "\n",
        "* Consider the language\n",
        "\n",
        " > M = $\\{ 0^m 1^n \\; \\mid \\; 0 \\leq m,n \\leq 3 \\;\\wedge\\; m < n \\}$"
      ]
    },
    {
      "cell_type": "code",
      "metadata": {
        "editable": false,
        "run_control": {
          "frozen": false,
          "read_only": false
        },
        "id": "-vCnjjJhzooF",
        "colab": {
          "base_uri": "https://localhost:8080/"
        },
        "outputId": "4c08e5b0-77a0-4f78-a3e8-7cbd1cc85f6a"
      },
      "source": [
        "M = {\"0\"*m + \"1\"*n for m in range(3) for n in range(4)  if m < n}\n",
        "print(M)"
      ],
      "execution_count": 13,
      "outputs": [
        {
          "output_type": "stream",
          "text": [
            "{'011', '0111', '1', '11', '111', '00111'}\n"
          ],
          "name": "stdout"
        }
      ]
    },
    {
      "cell_type": "code",
      "metadata": {
        "editable": false,
        "run_control": {
          "frozen": false,
          "read_only": false
        },
        "id": "mow8lu47zooG",
        "colab": {
          "base_uri": "https://localhost:8080/"
        },
        "outputId": "395825fe-eae4-4097-a125-1dd8a1d170f8"
      },
      "source": [
        "print(\"lcat(L,M) = \", lcat(L,M))"
      ],
      "execution_count": 14,
      "outputs": [
        {
          "output_type": "stream",
          "text": [
            "lcat(L,M) =  {'bc11', 'a011', 'bc111', 'bc00111', 'a111', 'a0111', 'bc011', 'a1', 'a00111', 'bc1', 'a11', 'bc0111'}\n"
          ],
          "name": "stdout"
        }
      ]
    },
    {
      "cell_type": "code",
      "metadata": {
        "editable": false,
        "run_control": {
          "frozen": false,
          "read_only": false
        },
        "id": "73Fjkmg6zooG",
        "colab": {
          "base_uri": "https://localhost:8080/"
        },
        "outputId": "1247ec8b-ea54-488c-cc08-3ceaa8e595b3"
      },
      "source": [
        "print(\"lcat(M,lphi()) = \", lcat(M,lphi()))"
      ],
      "execution_count": 15,
      "outputs": [
        {
          "output_type": "stream",
          "text": [
            "lcat(M,lphi()) =  set()\n"
          ],
          "name": "stdout"
        }
      ]
    },
    {
      "cell_type": "code",
      "metadata": {
        "editable": false,
        "run_control": {
          "frozen": false,
          "read_only": false
        },
        "id": "94h1pZvjzooH",
        "colab": {
          "base_uri": "https://localhost:8080/"
        },
        "outputId": "dea9f7ac-59a5-4ebf-e8a9-c5c3c7d0a864"
      },
      "source": [
        "print(\"lcat(M,lunit()) = \", lcat(M,lunit()))"
      ],
      "execution_count": 16,
      "outputs": [
        {
          "output_type": "stream",
          "text": [
            "lcat(M,lunit()) =  {'011', '0111', '1', '11', '111', '00111'}\n"
          ],
          "name": "stdout"
        }
      ]
    },
    {
      "cell_type": "markdown",
      "metadata": {
        "editable": false,
        "run_control": {
          "frozen": false,
          "read_only": false
        },
        "id": "6KBZQkR7zooH"
      },
      "source": [
        "<span style=\"color:green\"> **Need to add a few exercises here. ** </span>"
      ]
    },
    {
      "cell_type": "markdown",
      "metadata": {
        "editable": false,
        "run_control": {
          "frozen": false,
          "read_only": false
        },
        "id": "Di8_AkCnzooI"
      },
      "source": [
        "### Exponentiation as repeated concatenation\n",
        "\n",
        "With concatenation and Unit under our belt, we can define exponentiation recursively. Exponentiation is repeated multiplication (which for us is concatenation).\n",
        "\n",
        "> $L^n = L L^{n-1}$\n",
        "\n",
        "> $L^0 = Unit$\n",
        "\n",
        "We must have $L^0 = lunit()$; that is the only logical choice. \n",
        "\n",
        "\n",
        "__Question:__  If you defined $L^0 = lphi()$, then what happens?\n",
        "\n",
        "The code below simulates the aforesaid recursion."
      ]
    },
    {
      "cell_type": "code",
      "metadata": {
        "editable": false,
        "run_control": {
          "frozen": false,
          "read_only": false
        },
        "id": "6jR70igqzooJ"
      },
      "source": [
        "def lexp(L,n):\n",
        "    \"\"\"In : L (language : a set),\n",
        "            n (exponent : a nat).\n",
        "       Out: L^n (language : a set).\n",
        "       Example:\n",
        "       L = {'ab', 'bc'}\n",
        "       n = 2\n",
        "       lexp(A,2) -> {'abab', 'bcab', 'bcbc', 'abbc'}\n",
        "    \"\"\"\n",
        "    return lunit() if n == 0 else lcat(L, lexp(L, n-1))"
      ],
      "execution_count": 17,
      "outputs": []
    },
    {
      "cell_type": "markdown",
      "metadata": {
        "editable": false,
        "run_control": {
          "frozen": false,
          "read_only": false
        },
        "id": "jN0Rj7-szooK"
      },
      "source": [
        "\n",
        "__Let us now test our lexp functionality__:\n",
        "\n"
      ]
    },
    {
      "cell_type": "code",
      "metadata": {
        "editable": false,
        "run_control": {
          "frozen": false,
          "read_only": false
        },
        "id": "ijbUHRMWzooK",
        "colab": {
          "base_uri": "https://localhost:8080/"
        },
        "outputId": "42bfd2cc-6032-483b-c50c-043065fa2cae"
      },
      "source": [
        "L = {'a','bc'}\n",
        "lexp(L,2)"
      ],
      "execution_count": 18,
      "outputs": [
        {
          "output_type": "execute_result",
          "data": {
            "text/plain": [
              "{'aa', 'abc', 'bca', 'bcbc'}"
            ]
          },
          "metadata": {},
          "execution_count": 18
        }
      ]
    },
    {
      "cell_type": "code",
      "metadata": {
        "editable": false,
        "run_control": {
          "frozen": false,
          "read_only": false
        },
        "id": "SiSa85kPzooK",
        "colab": {
          "base_uri": "https://localhost:8080/"
        },
        "outputId": "d0f07e7f-9a51-475e-e376-97f086062b48"
      },
      "source": [
        "M = {\"0\"*m + \"1\"*n for m in range(3) for n in range(4) if m < n }\n",
        "print('M = ', M)\n",
        "print('lexp(M,2) = ')\n",
        "lexp(M,2)"
      ],
      "execution_count": 19,
      "outputs": [
        {
          "output_type": "stream",
          "text": [
            "M =  {'011', '0111', '1', '11', '111', '00111'}\n",
            "lexp(M,2) = \n"
          ],
          "name": "stdout"
        },
        {
          "output_type": "execute_result",
          "data": {
            "text/plain": [
              "{'0011100111',\n",
              " '00111011',\n",
              " '001110111',\n",
              " '001111',\n",
              " '0011111',\n",
              " '00111111',\n",
              " '01100111',\n",
              " '011011',\n",
              " '0110111',\n",
              " '0111',\n",
              " '011100111',\n",
              " '0111011',\n",
              " '01110111',\n",
              " '01111',\n",
              " '011111',\n",
              " '0111111',\n",
              " '100111',\n",
              " '1011',\n",
              " '10111',\n",
              " '11',\n",
              " '1100111',\n",
              " '11011',\n",
              " '110111',\n",
              " '111',\n",
              " '11100111',\n",
              " '111011',\n",
              " '1110111',\n",
              " '1111',\n",
              " '11111',\n",
              " '111111'}"
            ]
          },
          "metadata": {},
          "execution_count": 19
        }
      ]
    },
    {
      "cell_type": "code",
      "metadata": {
        "editable": false,
        "run_control": {
          "frozen": false,
          "read_only": false
        },
        "id": "TyqTDQ-ezooL",
        "colab": {
          "base_uri": "https://localhost:8080/"
        },
        "outputId": "17bd417f-70e6-4ea6-ce8d-1c71ae69ae99"
      },
      "source": [
        "L = {'a','bc'}\n",
        "M = {\"0\"*m + \"1\"*n for m in range(3) for n in range(4) if m < n }\n",
        "lexp(lcat(L,M),1)"
      ],
      "execution_count": 20,
      "outputs": [
        {
          "output_type": "execute_result",
          "data": {
            "text/plain": [
              "{'a00111',\n",
              " 'a011',\n",
              " 'a0111',\n",
              " 'a1',\n",
              " 'a11',\n",
              " 'a111',\n",
              " 'bc00111',\n",
              " 'bc011',\n",
              " 'bc0111',\n",
              " 'bc1',\n",
              " 'bc11',\n",
              " 'bc111'}"
            ]
          },
          "metadata": {},
          "execution_count": 20
        }
      ]
    },
    {
      "cell_type": "markdown",
      "metadata": {
        "editable": false,
        "run_control": {
          "frozen": false,
          "read_only": false
        },
        "id": "aWQV9E7gzooL"
      },
      "source": [
        "<span style=\"color:green\"> **Need to add a few exercises here. ** </span>"
      ]
    },
    {
      "cell_type": "markdown",
      "metadata": {
        "editable": false,
        "run_control": {
          "frozen": false,
          "read_only": false
        },
        "id": "hIJIilkGzooL"
      },
      "source": [
        "<span style=\"color:blue\"> **Definition of the star of a language through function lstar. Since star produces an infinite set in almost all cases, we define a _truncated_ version of star. ** </span>"
      ]
    },
    {
      "cell_type": "markdown",
      "metadata": {
        "editable": false,
        "run_control": {
          "frozen": false,
          "read_only": false
        },
        "id": "YBu5S4q0zooM"
      },
      "source": [
        "\n",
        "### With lexp under our belt, we can define lstar. We will define \"star up to n\" and then set n to infinity.\n",
        "\n",
        "> $L^{*n} = L^n \\; \\cup \\; L^{*(n-1)}$\n",
        "\n",
        "> $L^{*0} = Unit$\n",
        "\n",
        "And thus the classical $L^* = L^{*n}\\;\\; {\\rm for}\\;\\; n=\\infty$, which we won't bother to \"run\" in Python :-).  We will only run $L^{*n}$ in Python.\n",
        "\n",
        "We also take care to test that lstar works correctly for lphi and Unit.\n"
      ]
    },
    {
      "cell_type": "code",
      "metadata": {
        "editable": false,
        "run_control": {
          "frozen": false,
          "read_only": false
        },
        "id": "kVZfePPQzooM"
      },
      "source": [
        "def lunion(L1,L2):\n",
        "    \"\"\"In : L1 (language : a set),\n",
        "            L2 (language : a set).\n",
        "       Out: L1 union L2 (language : a set).\n",
        "    \"\"\"\n",
        "    return L1 | L2\n",
        "\n",
        "def lstar(L,n):\n",
        "    \"\"\"In : L (language : a set),\n",
        "            n (bound for lstar : a nat). \n",
        "       Out: L*_n (language : a set)\n",
        "    Example:\n",
        "    L = {'ab','bc'}\n",
        "    n = 2\n",
        "    lstar(L,2) -> {'abab', 'bcbc', 'ab', 'abbc', '', 'bc', 'bcab'}\n",
        "    \"\"\"\n",
        "    return lunit() if n == 0 else lunion(lexp(L,n), lstar(L,n-1))"
      ],
      "execution_count": 21,
      "outputs": []
    },
    {
      "cell_type": "code",
      "metadata": {
        "editable": false,
        "run_control": {
          "frozen": false,
          "read_only": false
        },
        "id": "2iHnfk7mzooM",
        "colab": {
          "base_uri": "https://localhost:8080/"
        },
        "outputId": "63bc4872-6772-4bfe-c7f0-4a4c9e44f380"
      },
      "source": [
        "L1 = {'a','bc'}\n",
        "lstar(L1,2) "
      ],
      "execution_count": 22,
      "outputs": [
        {
          "output_type": "execute_result",
          "data": {
            "text/plain": [
              "{'', 'a', 'aa', 'abc', 'bc', 'bca', 'bcbc'}"
            ]
          },
          "metadata": {},
          "execution_count": 22
        }
      ]
    },
    {
      "cell_type": "code",
      "metadata": {
        "editable": false,
        "run_control": {
          "frozen": false,
          "read_only": false
        },
        "id": "VwjZowQ0zooN",
        "colab": {
          "base_uri": "https://localhost:8080/"
        },
        "outputId": "0ab413d2-772f-4ddd-cac0-ea7922261d2b"
      },
      "source": [
        "L2 = {'ab','bc'}\n",
        "lstar(L2,2) "
      ],
      "execution_count": 23,
      "outputs": [
        {
          "output_type": "execute_result",
          "data": {
            "text/plain": [
              "{'', 'ab', 'abab', 'abbc', 'bc', 'bcab', 'bcbc'}"
            ]
          },
          "metadata": {},
          "execution_count": 23
        }
      ]
    },
    {
      "cell_type": "code",
      "metadata": {
        "editable": false,
        "run_control": {
          "frozen": false,
          "read_only": false
        },
        "id": "MafKA1BUzooN",
        "colab": {
          "base_uri": "https://localhost:8080/"
        },
        "outputId": "2dd3a1f6-f8a0-4ce8-a3e9-690cb1c6a870"
      },
      "source": [
        "L2 = {'ab','bc'}\n",
        "lstar(L2,3)"
      ],
      "execution_count": 24,
      "outputs": [
        {
          "output_type": "execute_result",
          "data": {
            "text/plain": [
              "{'',\n",
              " 'ab',\n",
              " 'abab',\n",
              " 'ababab',\n",
              " 'ababbc',\n",
              " 'abbc',\n",
              " 'abbcab',\n",
              " 'abbcbc',\n",
              " 'bc',\n",
              " 'bcab',\n",
              " 'bcabab',\n",
              " 'bcabbc',\n",
              " 'bcbc',\n",
              " 'bcbcab',\n",
              " 'bcbcbc'}"
            ]
          },
          "metadata": {},
          "execution_count": 24
        }
      ]
    },
    {
      "cell_type": "markdown",
      "metadata": {
        "editable": false,
        "run_control": {
          "frozen": false,
          "read_only": false
        },
        "id": "YQwgC2pWzooN"
      },
      "source": [
        "#### Let us define a typical alphabet used in our studies: $\\Sigma = \\{0,1\\}$"
      ]
    },
    {
      "cell_type": "code",
      "metadata": {
        "editable": false,
        "run_control": {
          "frozen": false,
          "read_only": false
        },
        "id": "tj0u-aKWzooO"
      },
      "source": [
        "Sig01 = {'0','1'}"
      ],
      "execution_count": 25,
      "outputs": []
    },
    {
      "cell_type": "code",
      "metadata": {
        "editable": false,
        "run_control": {
          "frozen": false,
          "read_only": false
        },
        "id": "VcQge3NGzooO",
        "colab": {
          "base_uri": "https://localhost:8080/"
        },
        "outputId": "e6eb5b4b-1e53-4545-a75d-52d0167ba3dd"
      },
      "source": [
        "lstar(Sig01,0)"
      ],
      "execution_count": 26,
      "outputs": [
        {
          "output_type": "execute_result",
          "data": {
            "text/plain": [
              "{''}"
            ]
          },
          "metadata": {},
          "execution_count": 26
        }
      ]
    },
    {
      "cell_type": "code",
      "metadata": {
        "editable": false,
        "run_control": {
          "frozen": false,
          "read_only": false
        },
        "id": "UZ7WIsTRzooO",
        "colab": {
          "base_uri": "https://localhost:8080/"
        },
        "outputId": "384ba31b-5e71-4b9e-f722-f9bdf30a20d8"
      },
      "source": [
        "lstar(Sig01,1)"
      ],
      "execution_count": 27,
      "outputs": [
        {
          "output_type": "execute_result",
          "data": {
            "text/plain": [
              "{'', '0', '1'}"
            ]
          },
          "metadata": {},
          "execution_count": 27
        }
      ]
    },
    {
      "cell_type": "code",
      "metadata": {
        "editable": false,
        "run_control": {
          "frozen": false,
          "read_only": false
        },
        "id": "M8mB_t2BzooO",
        "colab": {
          "base_uri": "https://localhost:8080/"
        },
        "outputId": "9f795a39-7672-4b5c-9208-c84a1311b6fd"
      },
      "source": [
        "lstar(Sig01,2)"
      ],
      "execution_count": 28,
      "outputs": [
        {
          "output_type": "execute_result",
          "data": {
            "text/plain": [
              "{'', '0', '00', '01', '1', '10', '11'}"
            ]
          },
          "metadata": {},
          "execution_count": 28
        }
      ]
    },
    {
      "cell_type": "code",
      "metadata": {
        "editable": false,
        "run_control": {
          "frozen": false,
          "read_only": false
        },
        "id": "CupTIx8IzooP"
      },
      "source": [
        ""
      ],
      "execution_count": 28,
      "outputs": []
    },
    {
      "cell_type": "code",
      "metadata": {
        "editable": false,
        "run_control": {
          "frozen": false,
          "read_only": false
        },
        "id": "7kKGzYpYzooP",
        "colab": {
          "base_uri": "https://localhost:8080/"
        },
        "outputId": "ad20ac63-c01e-4ad5-e670-d8806b73752e"
      },
      "source": [
        "lstar(Sig01,3)"
      ],
      "execution_count": 29,
      "outputs": [
        {
          "output_type": "execute_result",
          "data": {
            "text/plain": [
              "{'',\n",
              " '0',\n",
              " '00',\n",
              " '000',\n",
              " '001',\n",
              " '01',\n",
              " '010',\n",
              " '011',\n",
              " '1',\n",
              " '10',\n",
              " '100',\n",
              " '101',\n",
              " '11',\n",
              " '110',\n",
              " '111'}"
            ]
          },
          "metadata": {},
          "execution_count": 29
        }
      ]
    },
    {
      "cell_type": "markdown",
      "metadata": {
        "editable": false,
        "run_control": {
          "frozen": false,
          "read_only": false
        },
        "id": "AtGc344dzooP"
      },
      "source": [
        "<span style=\"color:blue\"> **Let's do a few exercises involving lstar. Use the pull-down provided by ipywidgets to select your language. Then use the slider to change the lstar truncation limit. If you had an infinite slider and slid it all the way to the right, you would be witnessing the \"true star\" :-) ** </span>"
      ]
    },
    {
      "cell_type": "code",
      "metadata": {
        "run_control": {
          "frozen": false,
          "read_only": false
        },
        "id": "qgXMlrUDzooP",
        "colab": {
          "base_uri": "https://localhost:8080/",
          "height": 0,
          "referenced_widgets": [
            "87a9f36b50bb4e6f85241b7f188c3ed9",
            "306dfbbc6ae8411ba8a7f9aeb6d58d08",
            "cd0fce640f86476fb7e04ea185e2dbc2",
            "2c7a919d68434bf080c9493b33577461",
            "22cd7b13ed0b4b458c43afb9b790a7f8",
            "b94de322a4bd422cb65eccf30db6da85",
            "504b5c5840704cadbb8946b490794f76",
            "4bff261fab92410eaa0e3e1e4eedc129",
            "1ec7dfedc7da473bad225d44237c9133",
            "e79b788079494a3293469a7d46ad58af"
          ]
        },
        "outputId": "ca927ef1-deba-48ef-b2c3-b1d100a745ca"
      },
      "source": [
        "import ipywidgets as wdg\n",
        "L1 = {'a','bc'}\n",
        "L2 = {'ab','bc'}\n",
        "L3 = {'a','b','c'}\n",
        "M =  {'011', '111', '11', '0111', '00111', '1'}\n",
        "\n",
        "wdg.interact(lstar,\n",
        "L={'L3': L3, 'L1': L1, 'L2':L2, 'M': M, 'lphi': lphi(), 'lunit' : lunit()}, n=(0,7))"
      ],
      "execution_count": 30,
      "outputs": [
        {
          "output_type": "display_data",
          "data": {
            "application/vnd.jupyter.widget-view+json": {
              "model_id": "87a9f36b50bb4e6f85241b7f188c3ed9",
              "version_minor": 0,
              "version_major": 2
            },
            "text/plain": [
              "interactive(children=(Dropdown(description='L', options={'L3': {'c', 'a', 'b'}, 'L1': {'a', 'bc'}, 'L2': {'ab'…"
            ]
          },
          "metadata": {}
        },
        {
          "output_type": "execute_result",
          "data": {
            "text/plain": [
              "<function __main__.lstar>"
            ]
          },
          "metadata": {},
          "execution_count": 30
        }
      ]
    },
    {
      "cell_type": "code",
      "metadata": {
        "editable": false,
        "run_control": {
          "frozen": false,
          "read_only": false
        },
        "id": "rBy2-VpyzooQ",
        "colab": {
          "base_uri": "https://localhost:8080/",
          "height": 0,
          "referenced_widgets": [
            "bde8396cc50b4df3aef2fc4ff7a2c963",
            "6b6d80fa761346879cbe7dce53cc34d5",
            "d504ed1634ab4128a2ba7e1da847e2be",
            "a341336dbbce442dad76b60dd437881c",
            "d0722bef07a84e2a9e0ef4fc9ddc7c27",
            "1bbd3cc536f84bdca7eca8ca93aa92fb",
            "3e93e1fcc7b04951901d4cb14ae2bb60",
            "1ff08c06ceb04fa1a1d210440b188655",
            "d02d08657bba48b4a232b95ac314f30d",
            "86b58f6f21fe498bacc210bf38e77fa0"
          ]
        },
        "outputId": "aa6ce53c-4027-4152-d786-a51c11bb6798"
      },
      "source": [
        "import ipywidgets as wdg\n",
        "L1 = {'a','bc'}\n",
        "L2 = {'ab','bc'}\n",
        "M =  {'011', '111', '11', '0111', '00111', '1'}\n",
        "\n",
        "wdg.interact(lstar,\n",
        "L={'L1': L1, 'L2':L2, 'M': M, 'lphi': lphi(), 'lunit' : lunit()}, n=(0,7))"
      ],
      "execution_count": 31,
      "outputs": [
        {
          "output_type": "display_data",
          "data": {
            "application/vnd.jupyter.widget-view+json": {
              "model_id": "bde8396cc50b4df3aef2fc4ff7a2c963",
              "version_minor": 0,
              "version_major": 2
            },
            "text/plain": [
              "interactive(children=(Dropdown(description='L', options={'L1': {'a', 'bc'}, 'L2': {'ab', 'bc'}, 'M': {'011', '…"
            ]
          },
          "metadata": {}
        },
        {
          "output_type": "execute_result",
          "data": {
            "text/plain": [
              "<function __main__.lstar>"
            ]
          },
          "metadata": {},
          "execution_count": 31
        }
      ]
    },
    {
      "cell_type": "markdown",
      "metadata": {
        "id": "O6Ybo0lQzooR"
      },
      "source": [
        "## Important use-case: Star of an alphabet\n",
        "\n",
        "We generate the universe of strings possible over an alphabet by starring the alphabet (viewed as a language of strings of length 1). The illustration below shows that."
      ]
    },
    {
      "cell_type": "code",
      "metadata": {
        "id": "wzJiYdLWzooR",
        "colab": {
          "base_uri": "https://localhost:8080/",
          "height": 350,
          "referenced_widgets": [
            "af170f3385e441528a6f67821615d60f",
            "9ab7a6e87a874637a6ba66cd6ff30f1d",
            "266bbb4d24dc402aba539c9adf1eca8e",
            "768761835b1c49029176a80cec265841",
            "7a402508726b4cbbb8cc47bdb39d293d",
            "61d61c45b8f04d81bb17dc7f92c78bd3",
            "eb7b6567e06347298266e52c7ebef29f",
            "49f4085025964613bcfca7e8dd9b0c3a",
            "ea78cd8d676948cd8a6020d1d4ec0aec",
            "e7312cab454b4f6f91a83fb967d04585"
          ]
        },
        "outputId": "be8cd434-d458-4d79-f0bb-d05074795b0d"
      },
      "source": [
        "Alph1 = {'a','b'}\n",
        "Alph2 = {'0','1'}\n",
        "wdg.interact(lstar, L={'Alph1': Alph1, 'Alph2':Alph2}, n=(0,7))"
      ],
      "execution_count": 32,
      "outputs": [
        {
          "output_type": "display_data",
          "data": {
            "application/vnd.jupyter.widget-view+json": {
              "model_id": "af170f3385e441528a6f67821615d60f",
              "version_minor": 0,
              "version_major": 2
            },
            "text/plain": [
              "interactive(children=(Dropdown(description='L', options={'Alph1': {'a', 'b'}, 'Alph2': {'0', '1'}}, value={'a'…"
            ]
          },
          "metadata": {}
        },
        {
          "output_type": "execute_result",
          "data": {
            "text/plain": [
              "<function __main__.lstar>"
            ]
          },
          "metadata": {},
          "execution_count": 32
        }
      ]
    },
    {
      "cell_type": "code",
      "metadata": {
        "editable": false,
        "run_control": {
          "frozen": false,
          "read_only": false
        },
        "id": "pqUaKtC4zooR",
        "colab": {
          "base_uri": "https://localhost:8080/"
        },
        "outputId": "5894a375-da40-4d62-e5ff-18f1df07119b"
      },
      "source": [
        "print(lstar(lunit(),10))\n",
        "print(lstar(lstar(lunit(), 10), 10))"
      ],
      "execution_count": 33,
      "outputs": [
        {
          "output_type": "stream",
          "text": [
            "{''}\n",
            "{''}\n"
          ],
          "name": "stdout"
        }
      ]
    },
    {
      "cell_type": "markdown",
      "metadata": {
        "editable": false,
        "run_control": {
          "frozen": false,
          "read_only": false
        },
        "id": "qcXXsg6uzooS"
      },
      "source": [
        "\n",
        "Now, we present a set of operations on strings and languages that are self-explanatory, so we'll just summarize them:\n",
        "\n",
        "* srev - reverse a string\n",
        "* lrev - reverse a language. It maps srev over a language (set of strings).\n",
        "* shomo - apply a language homomorphism using a lambda passed in.  You can \"rot13\" code email using this :-)\n",
        "* lhomo - apply a homomorphism to a language.\n",
        "\n",
        "Since tests are embedded in the doc-strings of these functions, we will not show tests separately, but feel free to add tests.\n"
      ]
    },
    {
      "cell_type": "code",
      "metadata": {
        "editable": false,
        "run_control": {
          "frozen": false,
          "read_only": false
        },
        "id": "9zzF9x-IzooT"
      },
      "source": [
        "# In Python, there isn't direct support for reversing a string.\n",
        "# The backward selection method implemented by S[::-1] is what \n",
        "# many recommend. This leaves the start and stride empty, and\n",
        "# specifies the direction to be going backwards. \n",
        "# Another method is \"\".join(reversed(s)) to reverse s\n",
        "\n",
        "def srev(S):\n",
        "    \"\"\"In : S (string)\n",
        "       Out: reverse of S (string)\n",
        "       Example:\n",
        "       srev('ab') -> 'ba'\n",
        "    \"\"\"\n",
        "    return S[::-1] \n",
        "\n",
        "def lrev(L):\n",
        "    \"\"\"In : L (language : a set)\n",
        "       Out: reverse of L (language : a set)\n",
        "       Example: \n",
        "       lrev({'ab', 'bc'}) -> {'cb', 'ba'}\n",
        "    \"\"\"\n",
        "    return set(map(lambda x: srev(x), L))\n",
        "\n",
        "def shomo(S,f):\n",
        "    \"\"\"In : S (string)\n",
        "            f (fun\n",
        "            ction from char to char)\n",
        "       Out: String homomorphism of S wrt f.\n",
        "       Example: \n",
        "       S = \"abcd\"\n",
        "       f = lambda x: chr( (ord(x)+1) % 256 )\n",
        "       shomo(\"abcd\",f) -> 'bcde'  \n",
        "    \"\"\"\n",
        "    return \"\".join(map(f,S))\n",
        "\n",
        "def lhomo(L,f):\n",
        "    \"\"\"In : L (language : set of strings)\n",
        "            f (function from char to char)\n",
        "       Out: Lang. homomorphism of L wrt f (language : set of str)\n",
        "       Example:\n",
        "       L = {\"Hello there\", \"a\", \"A\"}\n",
        "       f = rot13 = lambda x: chr( (ord(x)+13) % 256 )\n",
        "       lhomo(L, rot13) -> {'N', 'Uryy|-\\x81ur\\x7fr', 'n'}\n",
        "    \"\"\"\n",
        "    return set(map(lambda S: shomo(S,f), L))"
      ],
      "execution_count": 34,
      "outputs": []
    },
    {
      "cell_type": "markdown",
      "metadata": {
        "editable": false,
        "run_control": {
          "frozen": false,
          "read_only": false
        },
        "id": "pijopNuxzooT"
      },
      "source": [
        "<span style=\"color:blue\"> **Let's do a few exercises involving srev, lrev, shomo and lhomo. ** </span>"
      ]
    },
    {
      "cell_type": "code",
      "metadata": {
        "editable": false,
        "run_control": {
          "frozen": false,
          "read_only": false
        },
        "id": "qow3HE-xzooU",
        "colab": {
          "base_uri": "https://localhost:8080/"
        },
        "outputId": "6b25e8b4-a022-4895-9c6c-0f4f5537aa3b"
      },
      "source": [
        "L={'ab', '007'}\n",
        "\n",
        "# modulo-rotate all chars by one.\n",
        "rot1 = lambda x: chr( (ord(x)+1) % 256 ) \n",
        "\n",
        "# Don't be baffled if the sets print in a different order!               \n",
        "# Sets don't have a required positional presentation order\n",
        "# Watch for the CONTENTS of the set reversing !!\n",
        "print('lrev(L) = ', lrev(L)) \n",
        "\n",
        "print('lhomo(L, rot1) = ', lhomo(L, rot1))\n",
        "\n",
        "print('lrev(lhomo(L), rot1) = ', lrev(lhomo(L, rot1)))\n"
      ],
      "execution_count": 35,
      "outputs": [
        {
          "output_type": "stream",
          "text": [
            "lrev(L) =  {'ba', '700'}\n",
            "lhomo(L, rot1) =  {'118', 'bc'}\n",
            "lrev(lhomo(L), rot1) =  {'cb', '811'}\n"
          ],
          "name": "stdout"
        }
      ]
    },
    {
      "cell_type": "markdown",
      "metadata": {
        "editable": false,
        "run_control": {
          "frozen": false,
          "read_only": false
        },
        "id": "FvOZwXaJzooU"
      },
      "source": [
        "<span style=\"color:blue\"> **We now introduce powersets which you may have forgotten. We will need this when discussing non-deterministic finite automata.** </span>"
      ]
    },
    {
      "cell_type": "markdown",
      "metadata": {
        "editable": false,
        "run_control": {
          "frozen": false,
          "read_only": false
        },
        "id": "ic0gjpMHzooV"
      },
      "source": [
        "\n",
        "\n",
        "We now define the powerset of a set S. We work with lists, as sets cannot contain other sets (not hashable, etc). But barring all that, here is the recursive definition being used.\n",
        "\n",
        "> Let $PowSminusX$ = $powset(S \\setminus x)$\n",
        "\n",
        "> Then, given $x \\in S$, we have $powset(S)$ = $PowSminusX  \\cup$  { $y\\cup x$  $\\mid$ $y\\in PowSminusX$ } \n",
        "\n",
        "That is,\n",
        "\n",
        "* Take out some $x\\in S$\n",
        "\n",
        "* Recursively compute $PowSminusX$\n",
        "\n",
        "* Now, $powset(S)$ has all the sets in $PowSminusX$ plus all the sets in $PowSminusX$ with $x$ added back, as well.\n",
        "\n",
        "Here is that code now.\n"
      ]
    },
    {
      "cell_type": "code",
      "metadata": {
        "editable": false,
        "run_control": {
          "frozen": false,
          "read_only": false
        },
        "id": "9gFCepcqzooV"
      },
      "source": [
        "def powset(S):\n",
        "    \"\"\"In : S (set)\n",
        "       Out: List of lists representing powerset.\n",
        "            Since sets/lists are unhashable, we convert the set \n",
        "            to a list,perform the powerset operations, leaving \n",
        "            the result as a list (can't convert back to a set).\n",
        "       Example:\n",
        "       S = {'ab', 'bc'}\n",
        "       powset(S) -> [['ab', 'bc'], ['bc'], ['ab'], []]\n",
        "    \"\"\"\n",
        "    L=list(S)\n",
        "    if L==[]:\n",
        "        return([[]])\n",
        "    else:\n",
        "        pow_rest0 = powset(L[1:])\n",
        "        pow_rest1 = list(map(lambda Ls: [L[0]] + Ls, pow_rest0))\n",
        "        return(pow_rest0 + pow_rest1)"
      ],
      "execution_count": 36,
      "outputs": []
    },
    {
      "cell_type": "code",
      "metadata": {
        "run_control": {
          "frozen": false,
          "read_only": false
        },
        "id": "WeVmwUaszooV",
        "colab": {
          "base_uri": "https://localhost:8080/"
        },
        "outputId": "b5cf6b2d-f877-4247-d4ac-dee8c2a96fca"
      },
      "source": [
        "powset({'a','b','c'})"
      ],
      "execution_count": 37,
      "outputs": [
        {
          "output_type": "execute_result",
          "data": {
            "text/plain": [
              "[[], ['b'], ['a'], ['a', 'b'], ['c'], ['c', 'b'], ['c', 'a'], ['c', 'a', 'b']]"
            ]
          },
          "metadata": {},
          "execution_count": 37
        }
      ]
    },
    {
      "cell_type": "markdown",
      "metadata": {
        "editable": false,
        "run_control": {
          "frozen": false,
          "read_only": false
        },
        "id": "9e3pnH0RzooW"
      },
      "source": [
        "<span style=\"color:blue\"> **There are familiar operations on languages such as union and intersection. \n",
        "PAY SPECIAL ATTENTION to lcomplem, the function computing language complements.\n",
        "The definition of language complement is with respect to the universe  $\\Sigma^*$. \n",
        "Since we can compute only finite approximations of star, the function lcomplem is also like star in that we take a truncation parameter. You can follow how lcomplem works through experiments; once you get that, you must imagine how it works in math.\n",
        "Also pay attenti\n",
        "on to cartesian product. It works like normal cartesian products do (you may see a superficial similarity with concatenation where we draw pairs of strings but concatenate the strings). ** </span>"
      ]
    },
    {
      "cell_type": "markdown",
      "metadata": {
        "editable": false,
        "run_control": {
          "frozen": false,
          "read_only": false
        },
        "id": "vtDpmB3mzooW"
      },
      "source": [
        "\n",
        "Finally, we have a whole list of familiar language-theoretic operations:\n",
        "\n",
        "* lunion - language union\n",
        "\n",
        "* lint - language intersection\n",
        "\n",
        "* lsymdiff - language symmetric difference\n",
        "\n",
        "* lminus - language subtraction\n",
        "\n",
        "* lissubset - language subset test\n",
        "\n",
        "* lissuperset - language superset test\n",
        "\n",
        "* lcomplem - language complement with respect to \"star upto m\" of the alphabet (not the full alphabet star, mind you)\n",
        "\n",
        "* product - cartesian product\n",
        "\n",
        "We do not provide too many tests for these rather familiar functions. But please make sure you understand language complements well!\n"
      ]
    },
    {
      "cell_type": "code",
      "metadata": {
        "editable": false,
        "run_control": {
          "frozen": false,
          "read_only": false
        },
        "id": "wi3rurKBzooW"
      },
      "source": [
        "# Define lunion (as before)\n",
        "def lunion(L1,L2):\n",
        "    \"\"\"In : L1 (language : set of strings)\n",
        "            L2 (language : set of strings)\n",
        "       Out: L1 union L2 (sets of strings)\n",
        "    \"\"\"\n",
        "    return L1 | L2\n",
        "\n",
        "def lint(L1,L2):\n",
        "    \"\"\"In : L1 (language : set of strings)\n",
        "            L2 (language : set of strings)\n",
        "       Out: L1 intersection L2 (sets of strings)\n",
        "    \"\"\"\n",
        "    return L1 & L2\n",
        "\n",
        "def lsymdiff(L1,L2):\n",
        "    \"\"\"In : L1 (language : set of strings)\n",
        "            L2 (language : set of strings)\n",
        "       Out: (L1 \\ L2) union (L2 \\ L1) (sets of strings)\n",
        "       Example:\n",
        "       lsymdiff({'ab', 'bc'}, {'11', 'ab', '22'}) -> {'11', '22', 'bc'}\n",
        "    \"\"\"\n",
        "    return L1 ^ L2\n",
        "\n",
        "def lminus(L1,L2):\n",
        "    \"\"\"Language subtraction of two languages (sets of strings)\n",
        "       Can do it as L1.difference(L2) also. \n",
        "    \"\"\"\n",
        "    return L1 - L2\n",
        "\n",
        "def lissubset(L1,L2):\n",
        "    \"\"\"In : L1 (language : set of strings)\n",
        "            L2 (language : set of strings)\n",
        "       Out: L1 is subset or equal to L2 (True/False)\n",
        "    \"\"\"\n",
        "    return L1 <= L2\n",
        "\n",
        "def lissuperset(L1,L2):\n",
        "    \"\"\"In : L1 (language : set of strings)\n",
        "            L2 (language : set of strings)\n",
        "       Out: L1 is superset or equal to L2 (True/False)\n",
        "    \"\"\"\n",
        "    return L1 >= L2\n",
        "    \n",
        "def lcomplem(L,sigma,n):\n",
        "    \"\"\"In : L (language : set of strings)\n",
        "            sigma (alphabet : set of strings)\n",
        "            n (finite limit for lstar : int)\n",
        "       Out : sigma*_n - L (language : set of strings)\n",
        "       Example:\n",
        "       L = {'0', '10', '010'}\n",
        "       sigma = {'0', '1'}\n",
        "       n = 3\n",
        "       lcomplem(L4,{'0','1'}, 3) -> \n",
        "       {'', '000', '101', '011', '00', '1', \n",
        "        '001', '110', '111', '100', '01', '11'}\n",
        "    \"\"\"\n",
        "    return lstar(sigma,n) - L  \n",
        "\n",
        "def product(S1,S2):\n",
        "    \"\"\"In : S1 (set)\n",
        "            S2 (set)\n",
        "       Out: Cartesian product of S1 and S2 (set of pairs)\n",
        "    \"\"\"\n",
        "    return { (x,y) for x in S1 for y in S2 }\n",
        "\n",
        "#--end"
      ],
      "execution_count": 38,
      "outputs": []
    },
    {
      "cell_type": "code",
      "metadata": {
        "editable": false,
        "run_control": {
          "frozen": false,
          "read_only": false
        },
        "id": "sxL2NtFzzooX"
      },
      "source": [
        "L1 = {'0101'}"
      ],
      "execution_count": 39,
      "outputs": []
    },
    {
      "cell_type": "code",
      "metadata": {
        "editable": false,
        "run_control": {
          "frozen": false,
          "read_only": false
        },
        "id": "375MflerzooX"
      },
      "source": [
        "L2 = lstar({'0','1'}, 2)"
      ],
      "execution_count": 40,
      "outputs": []
    },
    {
      "cell_type": "code",
      "metadata": {
        "editable": false,
        "run_control": {
          "frozen": false,
          "read_only": false
        },
        "id": "2iW3mGUQzooX"
      },
      "source": [
        "# Python variable L2L1 denotes concat of L2 and L1\n",
        "L2L1 = lcat(L2,L1)  "
      ],
      "execution_count": 41,
      "outputs": []
    },
    {
      "cell_type": "code",
      "metadata": {
        "editable": false,
        "run_control": {
          "frozen": false,
          "read_only": false
        },
        "id": "MoVYMR1kzooY",
        "colab": {
          "base_uri": "https://localhost:8080/"
        },
        "outputId": "82f9eccc-586c-4676-bc25-b6adb74674a2"
      },
      "source": [
        "L2L1"
      ],
      "execution_count": 42,
      "outputs": [
        {
          "output_type": "execute_result",
          "data": {
            "text/plain": [
              "{'000101', '00101', '0101', '010101', '100101', '10101', '110101'}"
            ]
          },
          "metadata": {},
          "execution_count": 42
        }
      ]
    },
    {
      "cell_type": "code",
      "metadata": {
        "editable": false,
        "run_control": {
          "frozen": false,
          "read_only": false
        },
        "id": "Xs7Jv-ilzooY"
      },
      "source": [
        "L3 = lcat(L1, lunion(lunit(), L2L1))  "
      ],
      "execution_count": 43,
      "outputs": []
    },
    {
      "cell_type": "code",
      "metadata": {
        "editable": false,
        "run_control": {
          "frozen": false,
          "read_only": false
        },
        "id": "mxjn89CNzooY",
        "colab": {
          "base_uri": "https://localhost:8080/"
        },
        "outputId": "c585296e-264d-4e23-dae8-adad3163df5f"
      },
      "source": [
        "L3"
      ],
      "execution_count": 44,
      "outputs": [
        {
          "output_type": "execute_result",
          "data": {
            "text/plain": [
              "{'0101',\n",
              " '0101000101',\n",
              " '010100101',\n",
              " '01010101',\n",
              " '0101010101',\n",
              " '0101100101',\n",
              " '010110101',\n",
              " '0101110101'}"
            ]
          },
          "metadata": {},
          "execution_count": 44
        }
      ]
    },
    {
      "cell_type": "code",
      "metadata": {
        "editable": false,
        "run_control": {
          "frozen": false,
          "read_only": false
        },
        "id": "GKcOXLWPzooY",
        "colab": {
          "base_uri": "https://localhost:8080/"
        },
        "outputId": "cc0a2e96-8990-4bc4-ebf2-05f1f4d607e3"
      },
      "source": [
        "# Note that I've provided a truncation limit of 10 for lstar\n",
        "# involved in language complement.\n",
        "\n",
        "L4 = {'0', '10', '010'}\n",
        "\n",
        "print('L4 = ', L4)\n",
        "\n",
        "print(\"----\")\n",
        "print(\"lcomplem(L4,{'0','1'}, 1) = \",  lcomplem(L4,{'0','1'}, 1) )  \n",
        "\n",
        "print(\"----\")\n",
        "print(\"lcomplem(L4,{'0','1'}, 2) = \",  lcomplem(L4,{'0','1'}, 2) ) \n",
        "\n",
        "print(\"----\")\n",
        "print(\"lcomplem(L4,{'0','1'}, 3) = \",  lcomplem(L4,{'0','1'}, 3) ) \n",
        "\n",
        "print(\"----\")\n",
        "print(\"lcomplem(L4,{'0','1'}, 4) = \",  lcomplem(L4,{'0','1'}, 4) ) \n",
        "\n",
        "print(\"----\")\n",
        "print(\"In the limit, we get everything in {0,1}* \")\n",
        "print(\".. except for '0', '10', and '010'. \")"
      ],
      "execution_count": 45,
      "outputs": [
        {
          "output_type": "stream",
          "text": [
            "L4 =  {'0', '010', '10'}\n",
            "----\n",
            "lcomplem(L4,{'0','1'}, 1) =  {'', '1'}\n",
            "----\n",
            "lcomplem(L4,{'0','1'}, 2) =  {'', '1', '00', '11', '01'}\n",
            "----\n",
            "lcomplem(L4,{'0','1'}, 3) =  {'', '011', '000', '100', '001', '1', '110', '00', '11', '111', '101', '01'}\n",
            "----\n",
            "lcomplem(L4,{'0','1'}, 4) =  {'', '1010', '1110', '000', '100', '110', '0110', '111', '01', '1111', '1100', '0111', '011', '1001', '001', '1', '1000', '1101', '00', '0100', '11', '0010', '0001', '0000', '101', '0011', '0101', '1011'}\n",
            "----\n",
            "In the limit, we get everything in {0,1}* \n",
            ".. except for '0', '10', and '010'. \n"
          ],
          "name": "stdout"
        }
      ]
    },
    {
      "cell_type": "markdown",
      "metadata": {
        "collapsed": true,
        "editable": false,
        "run_control": {
          "frozen": false,
          "read_only": false
        },
        "id": "hoCApPGPzooY"
      },
      "source": [
        "<span style=\"color:blue\"> **This finishes Chapter-2 of the book ** </span>"
      ]
    },
    {
      "cell_type": "code",
      "metadata": {
        "run_control": {
          "frozen": false,
          "read_only": false
        },
        "id": "zWODT_SazooZ",
        "colab": {
          "base_uri": "https://localhost:8080/"
        },
        "outputId": "802a0609-1a6e-400f-95bc-01234d4e4b21"
      },
      "source": [
        "help(lsymdiff)"
      ],
      "execution_count": 46,
      "outputs": [
        {
          "output_type": "stream",
          "text": [
            "Help on function lsymdiff in module __main__:\n",
            "\n",
            "lsymdiff(L1, L2)\n",
            "    In : L1 (language : set of strings)\n",
            "         L2 (language : set of strings)\n",
            "    Out: (L1 \\ L2) union (L2 \\ L1) (sets of strings)\n",
            "    Example:\n",
            "    lsymdiff({'ab', 'bc'}, {'11', 'ab', '22'}) -> {'11', '22', 'bc'}\n",
            "\n"
          ],
          "name": "stdout"
        }
      ]
    },
    {
      "cell_type": "code",
      "metadata": {
        "run_control": {
          "frozen": false,
          "read_only": false
        },
        "id": "uxSp2Tb5zooZ"
      },
      "source": [
        "As = { \"a\"*i for i in range(8)}"
      ],
      "execution_count": 47,
      "outputs": []
    },
    {
      "cell_type": "code",
      "metadata": {
        "run_control": {
          "frozen": false,
          "read_only": false
        },
        "id": "7HMnab38zooZ",
        "colab": {
          "base_uri": "https://localhost:8080/"
        },
        "outputId": "fadd9eae-a7cf-4dd7-9820-f63ac5c73018"
      },
      "source": [
        "As"
      ],
      "execution_count": 48,
      "outputs": [
        {
          "output_type": "execute_result",
          "data": {
            "text/plain": [
              "{'', 'a', 'aa', 'aaa', 'aaaa', 'aaaaa', 'aaaaaa', 'aaaaaaa'}"
            ]
          },
          "metadata": {},
          "execution_count": 48
        }
      ]
    },
    {
      "cell_type": "code",
      "metadata": {
        "run_control": {
          "frozen": false,
          "read_only": false
        },
        "id": "u13UgmuNzooZ"
      },
      "source": [
        "Bs = { \"b\"*i for i in range(8)}"
      ],
      "execution_count": 49,
      "outputs": []
    },
    {
      "cell_type": "code",
      "metadata": {
        "run_control": {
          "frozen": false,
          "read_only": false
        },
        "id": "9jDRMeFqzooa",
        "colab": {
          "base_uri": "https://localhost:8080/"
        },
        "outputId": "e2628ed0-a40c-4d16-c0f1-ca2704be8718"
      },
      "source": [
        "Bs"
      ],
      "execution_count": 50,
      "outputs": [
        {
          "output_type": "execute_result",
          "data": {
            "text/plain": [
              "{'', 'b', 'bb', 'bbb', 'bbbb', 'bbbbb', 'bbbbbb', 'bbbbbbb'}"
            ]
          },
          "metadata": {},
          "execution_count": 50
        }
      ]
    },
    {
      "cell_type": "code",
      "metadata": {
        "run_control": {
          "frozen": false,
          "read_only": false
        },
        "id": "vItiFbeizooa"
      },
      "source": [
        "Cs = { \"c\"*i for i in range(8)}"
      ],
      "execution_count": 51,
      "outputs": []
    },
    {
      "cell_type": "code",
      "metadata": {
        "run_control": {
          "frozen": false,
          "read_only": false
        },
        "id": "GmBtYcF3zooa",
        "colab": {
          "base_uri": "https://localhost:8080/"
        },
        "outputId": "aac621df-0877-4b27-bb89-937b5588509f"
      },
      "source": [
        "Cs"
      ],
      "execution_count": 52,
      "outputs": [
        {
          "output_type": "execute_result",
          "data": {
            "text/plain": [
              "{'', 'c', 'cc', 'ccc', 'cccc', 'ccccc', 'cccccc', 'ccccccc'}"
            ]
          },
          "metadata": {},
          "execution_count": 52
        }
      ]
    },
    {
      "cell_type": "code",
      "metadata": {
        "run_control": {
          "frozen": false,
          "read_only": false
        },
        "id": "PfSYt_Rszooa"
      },
      "source": [
        "ABs = { \"a\"*i + \"b\" * i for i in range (8)}"
      ],
      "execution_count": 53,
      "outputs": []
    },
    {
      "cell_type": "code",
      "metadata": {
        "run_control": {
          "frozen": false,
          "read_only": false
        },
        "id": "LhQsFFBPzooa",
        "colab": {
          "base_uri": "https://localhost:8080/"
        },
        "outputId": "70a31ec0-c266-42a6-934b-a8bd8de8532a"
      },
      "source": [
        "ABs"
      ],
      "execution_count": 54,
      "outputs": [
        {
          "output_type": "execute_result",
          "data": {
            "text/plain": [
              "{'',\n",
              " 'aaaaaaabbbbbbb',\n",
              " 'aaaaaabbbbbb',\n",
              " 'aaaaabbbbb',\n",
              " 'aaaabbbb',\n",
              " 'aaabbb',\n",
              " 'aabb',\n",
              " 'ab'}"
            ]
          },
          "metadata": {},
          "execution_count": 54
        }
      ]
    },
    {
      "cell_type": "code",
      "metadata": {
        "run_control": {
          "frozen": false,
          "read_only": false
        },
        "id": "9OKHB0Oyzoob"
      },
      "source": [
        "BCs = { \"b\"*i + \"c\" * i for i in range (8)}"
      ],
      "execution_count": 55,
      "outputs": []
    },
    {
      "cell_type": "code",
      "metadata": {
        "run_control": {
          "frozen": false,
          "read_only": false
        },
        "id": "_rz275Kozoob",
        "colab": {
          "base_uri": "https://localhost:8080/"
        },
        "outputId": "40de00c8-f014-4b32-dace-77ebf6444a71"
      },
      "source": [
        "BCs"
      ],
      "execution_count": 56,
      "outputs": [
        {
          "output_type": "execute_result",
          "data": {
            "text/plain": [
              "{'',\n",
              " 'bbbbbbbccccccc',\n",
              " 'bbbbbbcccccc',\n",
              " 'bbbbbccccc',\n",
              " 'bbbbcccc',\n",
              " 'bbbccc',\n",
              " 'bbcc',\n",
              " 'bc'}"
            ]
          },
          "metadata": {},
          "execution_count": 56
        }
      ]
    },
    {
      "cell_type": "code",
      "metadata": {
        "run_control": {
          "frozen": false,
          "read_only": false
        },
        "id": "GqafLM6Izoob",
        "colab": {
          "base_uri": "https://localhost:8080/"
        },
        "outputId": "df5c81af-f945-444b-ef43-f0ed63f60b75"
      },
      "source": [
        "lcat(ABs, Cs)"
      ],
      "execution_count": 57,
      "outputs": [
        {
          "output_type": "execute_result",
          "data": {
            "text/plain": [
              "{'',\n",
              " 'aaaaaaabbbbbbb',\n",
              " 'aaaaaaabbbbbbbc',\n",
              " 'aaaaaaabbbbbbbcc',\n",
              " 'aaaaaaabbbbbbbccc',\n",
              " 'aaaaaaabbbbbbbcccc',\n",
              " 'aaaaaaabbbbbbbccccc',\n",
              " 'aaaaaaabbbbbbbcccccc',\n",
              " 'aaaaaaabbbbbbbccccccc',\n",
              " 'aaaaaabbbbbb',\n",
              " 'aaaaaabbbbbbc',\n",
              " 'aaaaaabbbbbbcc',\n",
              " 'aaaaaabbbbbbccc',\n",
              " 'aaaaaabbbbbbcccc',\n",
              " 'aaaaaabbbbbbccccc',\n",
              " 'aaaaaabbbbbbcccccc',\n",
              " 'aaaaaabbbbbbccccccc',\n",
              " 'aaaaabbbbb',\n",
              " 'aaaaabbbbbc',\n",
              " 'aaaaabbbbbcc',\n",
              " 'aaaaabbbbbccc',\n",
              " 'aaaaabbbbbcccc',\n",
              " 'aaaaabbbbbccccc',\n",
              " 'aaaaabbbbbcccccc',\n",
              " 'aaaaabbbbbccccccc',\n",
              " 'aaaabbbb',\n",
              " 'aaaabbbbc',\n",
              " 'aaaabbbbcc',\n",
              " 'aaaabbbbccc',\n",
              " 'aaaabbbbcccc',\n",
              " 'aaaabbbbccccc',\n",
              " 'aaaabbbbcccccc',\n",
              " 'aaaabbbbccccccc',\n",
              " 'aaabbb',\n",
              " 'aaabbbc',\n",
              " 'aaabbbcc',\n",
              " 'aaabbbccc',\n",
              " 'aaabbbcccc',\n",
              " 'aaabbbccccc',\n",
              " 'aaabbbcccccc',\n",
              " 'aaabbbccccccc',\n",
              " 'aabb',\n",
              " 'aabbc',\n",
              " 'aabbcc',\n",
              " 'aabbccc',\n",
              " 'aabbcccc',\n",
              " 'aabbccccc',\n",
              " 'aabbcccccc',\n",
              " 'aabbccccccc',\n",
              " 'ab',\n",
              " 'abc',\n",
              " 'abcc',\n",
              " 'abccc',\n",
              " 'abcccc',\n",
              " 'abccccc',\n",
              " 'abcccccc',\n",
              " 'abccccccc',\n",
              " 'c',\n",
              " 'cc',\n",
              " 'ccc',\n",
              " 'cccc',\n",
              " 'ccccc',\n",
              " 'cccccc',\n",
              " 'ccccccc'}"
            ]
          },
          "metadata": {},
          "execution_count": 57
        }
      ]
    },
    {
      "cell_type": "code",
      "metadata": {
        "run_control": {
          "frozen": false,
          "read_only": false
        },
        "id": "o01xRUC-zoob",
        "colab": {
          "base_uri": "https://localhost:8080/"
        },
        "outputId": "15c643ce-091a-4880-bf9d-2bd7933af5ba"
      },
      "source": [
        "lcat(As, Bs)"
      ],
      "execution_count": 58,
      "outputs": [
        {
          "output_type": "execute_result",
          "data": {
            "text/plain": [
              "{'',\n",
              " 'a',\n",
              " 'aa',\n",
              " 'aaa',\n",
              " 'aaaa',\n",
              " 'aaaaa',\n",
              " 'aaaaaa',\n",
              " 'aaaaaaa',\n",
              " 'aaaaaaab',\n",
              " 'aaaaaaabb',\n",
              " 'aaaaaaabbb',\n",
              " 'aaaaaaabbbb',\n",
              " 'aaaaaaabbbbb',\n",
              " 'aaaaaaabbbbbb',\n",
              " 'aaaaaaabbbbbbb',\n",
              " 'aaaaaab',\n",
              " 'aaaaaabb',\n",
              " 'aaaaaabbb',\n",
              " 'aaaaaabbbb',\n",
              " 'aaaaaabbbbb',\n",
              " 'aaaaaabbbbbb',\n",
              " 'aaaaaabbbbbbb',\n",
              " 'aaaaab',\n",
              " 'aaaaabb',\n",
              " 'aaaaabbb',\n",
              " 'aaaaabbbb',\n",
              " 'aaaaabbbbb',\n",
              " 'aaaaabbbbbb',\n",
              " 'aaaaabbbbbbb',\n",
              " 'aaaab',\n",
              " 'aaaabb',\n",
              " 'aaaabbb',\n",
              " 'aaaabbbb',\n",
              " 'aaaabbbbb',\n",
              " 'aaaabbbbbb',\n",
              " 'aaaabbbbbbb',\n",
              " 'aaab',\n",
              " 'aaabb',\n",
              " 'aaabbb',\n",
              " 'aaabbbb',\n",
              " 'aaabbbbb',\n",
              " 'aaabbbbbb',\n",
              " 'aaabbbbbbb',\n",
              " 'aab',\n",
              " 'aabb',\n",
              " 'aabbb',\n",
              " 'aabbbb',\n",
              " 'aabbbbb',\n",
              " 'aabbbbbb',\n",
              " 'aabbbbbbb',\n",
              " 'ab',\n",
              " 'abb',\n",
              " 'abbb',\n",
              " 'abbbb',\n",
              " 'abbbbb',\n",
              " 'abbbbbb',\n",
              " 'abbbbbbb',\n",
              " 'b',\n",
              " 'bb',\n",
              " 'bbb',\n",
              " 'bbbb',\n",
              " 'bbbbb',\n",
              " 'bbbbbb',\n",
              " 'bbbbbbb'}"
            ]
          },
          "metadata": {},
          "execution_count": 58
        }
      ]
    },
    {
      "cell_type": "code",
      "metadata": {
        "run_control": {
          "frozen": false,
          "read_only": false
        },
        "id": "ENAQF8F3zooc"
      },
      "source": [
        "ABCs = {\"a\"*i + \"b\"*i + \"c\"*i for i in range(8)}"
      ],
      "execution_count": 59,
      "outputs": []
    },
    {
      "cell_type": "code",
      "metadata": {
        "run_control": {
          "frozen": false,
          "read_only": false
        },
        "id": "Bdmvdlw1zooc",
        "colab": {
          "base_uri": "https://localhost:8080/"
        },
        "outputId": "efa78f26-b54e-4ab6-90dd-e1b1df5b0153"
      },
      "source": [
        "ABCs"
      ],
      "execution_count": 60,
      "outputs": [
        {
          "output_type": "execute_result",
          "data": {
            "text/plain": [
              "{'',\n",
              " 'aaaaaaabbbbbbbccccccc',\n",
              " 'aaaaaabbbbbbcccccc',\n",
              " 'aaaaabbbbbccccc',\n",
              " 'aaaabbbbcccc',\n",
              " 'aaabbbccc',\n",
              " 'aabbcc',\n",
              " 'abc'}"
            ]
          },
          "metadata": {},
          "execution_count": 60
        }
      ]
    },
    {
      "cell_type": "markdown",
      "metadata": {
        "id": "-BdqbSIh_6BP"
      },
      "source": [
        "Exercise added.\n",
        "\n",
        "Firstly, choosing alphabet set as $\\sum$ = {\"a\", \"b\"}.\n",
        "\n",
        "> $\\sum^0$ = { \" \", $\\sum^1$ = { \"a\", \"b\" }, $\\sum^2$ = { \"aa\", \"bb\", \"ab\", \"ba\" }, \n",
        "$\\sum^3$ = { \"aaa\", \"aab\", \"bba\", \"bbb\", \"aba\", \"abb\", \"baa\", \"bab\" }, and so on..\n",
        "\n",
        "> Therefore, $\\sum^*$ = { \" \", \"a\", \"b\", \"aa\", \"bb\", \"ab\", \"ba\", \"aaa\", \"aab\", \"bba\", \"bbb\", \"aba\", \"abb\", \"baa\", \"bab\", \"aaaa\", ...}\n",
        "\n",
        "Let us define a language, N such that the second character of the string is \"a\" and its of maximum length 3, \n",
        "\n",
        "> N = { \" \", \"a\", \"b\",\"aa\", \"ba\", \"aab\", \"aaa\", \"baa\", \"bab\"}.\n",
        "\n",
        "\n",
        "\n",
        "Another, language P is defined as, The string ends with \"b\" and is of maximum length 2, \n",
        "\n",
        "> P =  { \" \", \"b\", \"ab\", \"bb\"}.\n",
        "\n",
        "Applying, lcat() on N and P.\n",
        "\n",
        " \n",
        "\n",
        "\n",
        "\n",
        "\n",
        "\n",
        "\n",
        "\n"
      ]
    },
    {
      "cell_type": "code",
      "metadata": {
        "colab": {
          "base_uri": "https://localhost:8080/"
        },
        "id": "dU5lRncl_1y6",
        "outputId": "e8d412a5-afd6-4e86-d7a6-13c0a8eb0612"
      },
      "source": [
        "N = {\"\", \"a\", \"b\",\"aa\", \"ba\", \"aab\", \"aaa\", \"baa\", \"bab\"}\n",
        "P =  {\"\", \"b\",\"ab\", \"bb\"}\n",
        "\n",
        "print( \"lcat(N, P) = \",  lcat(N, P) )"
      ],
      "execution_count": 62,
      "outputs": [
        {
          "output_type": "stream",
          "text": [
            "lcat(N, P) =  {'', 'aabb', 'b', 'baab', 'aab', 'bbb', 'bb', 'babb', 'aaabb', 'baabb', 'aaaab', 'babab', 'baaab', 'a', 'baa', 'aaab', 'aabab', 'babbb', 'aabbb', 'bab', 'abb', 'ab', 'ba', 'aaa', 'aa'}\n"
          ],
          "name": "stdout"
        }
      ]
    },
    {
      "cell_type": "markdown",
      "metadata": {
        "id": "Gnwc1sV3FoJH"
      },
      "source": [
        "Now, Applying lstar() on N and P both."
      ]
    },
    {
      "cell_type": "code",
      "metadata": {
        "colab": {
          "base_uri": "https://localhost:8080/"
        },
        "id": "SXn1bItVFurq",
        "outputId": "507a556b-bd18-4d8c-9583-53d71f508621"
      },
      "source": [
        "print( \"lstar(N, 2) = \",  lstar(N, 2) )\n",
        "print( \"lstar(P, 2) = \",  lstar(P, 2) )"
      ],
      "execution_count": 64,
      "outputs": [
        {
          "output_type": "stream",
          "text": [
            "lstar(N, 2) =  {'', 'aabbab', 'aabb', 'b', 'aabaa', 'baba', 'baab', 'aaaaa', 'aab', 'bb', 'babb', 'baabab', 'baaa', 'aaba', 'aaaab', 'aaabab', 'aabaab', 'baaaab', 'babab', 'baaab', 'aabbaa', 'baaaaa', 'a', 'baa', 'aaab', 'bbaa', 'bba', 'babaab', 'aabab', 'baaba', 'abaa', 'babbaa', 'aabaaa', 'aaaba', 'bbab', 'aaaa', 'abab', 'aaabaa', 'bab', 'baaaa', 'aabba', 'babba', 'ab', 'babaa', 'aaaaaa', 'aaaaab', 'babbab', 'babaaa', 'ba', 'aaa', 'aa', 'baabaa', 'aba'}\n",
            "lstar(P, 2) =  {'', 'bab', 'abb', 'b', 'abbb', 'ab', 'bbbb', 'bbb', 'bbab', 'bb', 'abab'}\n"
          ],
          "name": "stdout"
        }
      ]
    },
    {
      "cell_type": "markdown",
      "metadata": {
        "run_control": {
          "frozen": false,
          "read_only": false
        },
        "id": "TrljL6vZzooc"
      },
      "source": [
        "# Now, do the exercises at the end of Ch2 and Ch3"
      ]
    }
  ]
}